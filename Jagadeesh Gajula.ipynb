{
 "cells": [
  {
   "cell_type": "markdown",
   "metadata": {},
   "source": [
    "# Investment Analysis Assignment\n",
    "### Jagadeesh Gajula"
   ]
  },
  {
   "cell_type": "markdown",
   "metadata": {},
   "source": [
    "# Description\n"
   ]
  },
  {
   "cell_type": "code",
   "execution_count": 1,
   "metadata": {
    "collapsed": true
   },
   "outputs": [],
   "source": [
    "#importing libraries\n",
    "import pandas as pd\n",
    "import numpy as np\n",
    "import pycountry # for converting name into country code"
   ]
  },
  {
   "cell_type": "code",
   "execution_count": 2,
   "metadata": {
    "collapsed": false
   },
   "outputs": [],
   "source": [
    "#getting all the data required for analysis\n",
    "companies=pd.read_csv('company.csv',delimiter='\\t') # I saved into .csv file\n",
    "rounds2=pd.read_csv('rounds2.csv',encoding='iso-8859-1')\n",
    "mapping=pd.read_csv('mapping.csv',encoding='iso-8859-1')"
   ]
  },
  {
   "cell_type": "code",
   "execution_count": 3,
   "metadata": {
    "collapsed": false
   },
   "outputs": [
    {
     "name": "stdout",
     "output_type": "stream",
     "text": [
      "<class 'pandas.core.frame.DataFrame'>\n",
      "RangeIndex: 66368 entries, 0 to 66367\n",
      "Data columns (total 10 columns):\n",
      "permalink        66368 non-null object\n",
      "name             66367 non-null object\n",
      "homepage_url     61310 non-null object\n",
      "category_list    63220 non-null object\n",
      "status           66368 non-null object\n",
      "country_code     59410 non-null object\n",
      "state_code       57821 non-null object\n",
      "region           58338 non-null object\n",
      "city             58340 non-null object\n",
      "founded_at       51147 non-null object\n",
      "dtypes: object(10)\n",
      "memory usage: 5.1+ MB\n",
      "<class 'pandas.core.frame.DataFrame'>\n",
      "RangeIndex: 114949 entries, 0 to 114948\n",
      "Data columns (total 6 columns):\n",
      "company_permalink          114949 non-null object\n",
      "funding_round_permalink    114949 non-null object\n",
      "funding_round_type         114949 non-null object\n",
      "funding_round_code         31140 non-null object\n",
      "funded_at                  114949 non-null object\n",
      "raised_amount_usd          94959 non-null float64\n",
      "dtypes: float64(1), object(5)\n",
      "memory usage: 5.3+ MB\n",
      "None None\n"
     ]
    }
   ],
   "source": [
    "#printing basic info \n",
    "print(companies.info(),rounds2.info())"
   ]
  },
  {
   "cell_type": "markdown",
   "metadata": {},
   "source": [
    "## Checkpoint 1 Data Cleaning"
   ]
  },
  {
   "cell_type": "code",
   "execution_count": 4,
   "metadata": {
    "collapsed": false
   },
   "outputs": [],
   "source": [
    "#preliminary cleaning for good start. lowering strings to avoid conflicts\n",
    "companies.permalink=companies.permalink.apply(lambda x:str.lower(x))\n",
    "rounds2.company_permalink=rounds2.company_permalink.apply(lambda x:str.lower(x))"
   ]
  },
  {
   "cell_type": "code",
   "execution_count": 5,
   "metadata": {
    "collapsed": false
   },
   "outputs": [
    {
     "name": "stdout",
     "output_type": "stream",
     "text": [
      "# of unique companies in rounds2:  66370\n",
      "# of unique companies in companies:  66368\n"
     ]
    }
   ],
   "source": [
    "print(\"# of unique companies in rounds2: \",rounds2.company_permalink.unique().shape[0])\n",
    "print(\"# of unique companies in companies: \",companies.permalink.unique().shape[0])"
   ]
  },
  {
   "cell_type": "code",
   "execution_count": 6,
   "metadata": {
    "collapsed": false
   },
   "outputs": [
    {
     "name": "stdout",
     "output_type": "stream",
     "text": [
      "2  more unique companies are present in rounds2 than companies dataframe\n"
     ]
    }
   ],
   "source": [
    "uniq=rounds2.company_permalink.unique().shape[0]-companies.permalink.unique().shape[0]\n",
    "\n",
    "print(uniq,\" more unique companies are present in rounds2 than companies dataframe\")"
   ]
  },
  {
   "cell_type": "code",
   "execution_count": 7,
   "metadata": {
    "collapsed": false
   },
   "outputs": [
    {
     "name": "stdout",
     "output_type": "stream",
     "text": [
      "# of observations in master_frame:  114949\n"
     ]
    }
   ],
   "source": [
    "master_frame=pd.merge(rounds2,companies,how='left',left_on='company_permalink',right_on='permalink')\n",
    "\n",
    "print(\"# of observations in master_frame: \",master_frame.shape[0])"
   ]
  },
  {
   "cell_type": "markdown",
   "metadata": {},
   "source": [
    "## Checkpoint 2 Funding Type Analysis"
   ]
  },
  {
   "cell_type": "markdown",
   "metadata": {},
   "source": [
    "### description"
   ]
  },
  {
   "cell_type": "code",
   "execution_count": 8,
   "metadata": {
    "collapsed": false
   },
   "outputs": [
    {
     "name": "stdout",
     "output_type": "stream",
     "text": [
      "*****pecentage of missing values**** \n",
      " \n",
      " company_permalink           0.000000\n",
      "funding_round_permalink     0.000000\n",
      "funding_round_type          0.000000\n",
      "funding_round_code         72.909725\n",
      "funded_at                   0.000000\n",
      "raised_amount_usd          17.390321\n",
      "permalink                   0.027838\n",
      "name                        0.028708\n",
      "homepage_url                5.359768\n",
      "category_list               2.984802\n",
      "status                      0.027838\n",
      "country_code                7.556395\n",
      "state_code                  9.528574\n",
      "region                      8.851752\n",
      "city                        8.849142\n",
      "founded_at                 17.870534\n",
      "dtype: float64\n"
     ]
    }
   ],
   "source": [
    "# before we dive into analysis we would do basic exploration and cleaning of data\n",
    "# we need to check percantage of null values in each column\n",
    "\n",
    "print(\"*****pecentage of missing values**** \\n \\n\",(master_frame.isnull().sum()/master_frame.shape[0])*100)"
   ]
  },
  {
   "cell_type": "markdown",
   "metadata": {},
   "source": [
    "#### As we can see there 'funding_round_code are missing  <i>73%</i>  of values  &  raised_amount_usd, founded_at are missing  17%  of values"
   ]
  },
  {
   "cell_type": "code",
   "execution_count": 9,
   "metadata": {
    "collapsed": true
   },
   "outputs": [],
   "source": [
    "# since raised_amount_usd column is essential for analysis we can drop null entries \n",
    "master_frame=master_frame[~master_frame.raised_amount_usd.isnull()]\n",
    "\n",
    "# we can drop these columns as they have missing values and not very esential for analysis\n",
    "master_frame = master_frame.drop('funding_round_code', axis=1)\n",
    "master_frame = master_frame.drop('founded_at', axis=1)"
   ]
  },
  {
   "cell_type": "code",
   "execution_count": 10,
   "metadata": {
    "collapsed": false
   },
   "outputs": [
    {
     "name": "stdout",
     "output_type": "stream",
     "text": [
      "*****pecentage of missing values**** \n",
      " \n",
      " company_permalink          0.000000\n",
      "funding_round_permalink    0.000000\n",
      "funding_round_type         0.000000\n",
      "funded_at                  0.000000\n",
      "raised_amount_usd          0.000000\n",
      "permalink                  0.017902\n",
      "name                       0.018956\n",
      "homepage_url               4.578818\n",
      "category_list              1.114165\n",
      "status                     0.017902\n",
      "country_code               6.167925\n",
      "state_code                 8.012932\n",
      "region                     7.428469\n",
      "city                       7.425310\n",
      "dtype: float64\n"
     ]
    }
   ],
   "source": [
    "# we need to re-check percantage of null values in each column\n",
    "\n",
    "print(\"*****pecentage of missing values**** \\n \\n\",(master_frame.isnull().sum()/master_frame.shape[0])*100)"
   ]
  },
  {
   "cell_type": "markdown",
   "metadata": {},
   "source": [
    "#### After removing data I hope there is no need of droping data anymore and its a good point to start journey\n",
    "### we can find average for type of investment"
   ]
  },
  {
   "cell_type": "code",
   "execution_count": 11,
   "metadata": {
    "collapsed": false,
    "scrolled": true
   },
   "outputs": [
    {
     "name": "stdout",
     "output_type": "stream",
     "text": [
      "venture ------------------- 11.7489 millions\n",
      "seed ------------------- 0.7198 millions\n",
      "undisclosed ------------------- 19.2424 millions\n",
      "convertible_note ------------------- 1.4534 millions\n",
      "private_equity ------------------- 73.3086 millions\n",
      "debt_financing ------------------- 17.0435 millions\n",
      "angel ------------------- 0.9587 millions\n",
      "grant ------------------- 4.3006 millions\n",
      "equity_crowdfunding ------------------- 0.5384 millions\n",
      "post_ipo_equity ------------------- 82.1825 millions\n",
      "post_ipo_debt ------------------- 168.7046 millions\n",
      "product_crowdfunding ------------------- 1.3631 millions\n",
      "secondary_market ------------------- 79.6496 millions\n",
      "non_equity_assistance ------------------- 0.4112 millions\n",
      "\n",
      "\n",
      "******most suitable type of investment for sparkfunds****** : ['venture']\n"
     ]
    }
   ],
   "source": [
    "# this code will print the type of investment and its average\n",
    "suitable=[]\n",
    "for i in master_frame.funding_round_type.unique():\n",
    "    average= master_frame.loc[master_frame.funding_round_type==i]\n",
    "    average=average.raised_amount_usd.mean()/1000000\n",
    "    print(i,'-------------------',round(average,4),\"millions\")\n",
    "    if  round(average)<15 and round(average)>5:\n",
    "        suitable.append(i)\n",
    "        \n",
    "print(\"\\n\\n******most suitable type of investment for sparkfunds****** :\",suitable)"
   ]
  },
  {
   "cell_type": "markdown",
   "metadata": {},
   "source": [
    "#### As we know from above cell venture is suitable for sparkfunds from here onwards we only consider venture investment"
   ]
  },
  {
   "cell_type": "code",
   "execution_count": 12,
   "metadata": {
    "collapsed": false
   },
   "outputs": [],
   "source": [
    "venture_data = master_frame[master_frame[\"funding_round_type\"]==suitable[0]]"
   ]
  },
  {
   "cell_type": "markdown",
   "metadata": {},
   "source": [
    "#### As we can see venture investment lies in suitable for sparkfunds range"
   ]
  },
  {
   "cell_type": "markdown",
   "metadata": {},
   "source": [
    "## Checkpoint 3 Country Analysis"
   ]
  },
  {
   "cell_type": "markdown",
   "metadata": {},
   "source": [
    "### As given in question we are going to use country codes so below messy code will create table from link given wikipedia"
   ]
  },
  {
   "cell_type": "code",
   "execution_count": 13,
   "metadata": {
    "collapsed": false,
    "scrolled": true
   },
   "outputs": [
    {
     "name": "stdout",
     "output_type": "stream",
     "text": [
      "------------This what we get as a table-------------\n",
      "\n"
     ]
    },
    {
     "data": {
      "text/html": [
       "<div>\n",
       "<table border=\"1\" class=\"dataframe\">\n",
       "  <thead>\n",
       "    <tr style=\"text-align: right;\">\n",
       "      <th></th>\n",
       "      <th>Alpha-3 Code</th>\n",
       "      <th>Country</th>\n",
       "      <th>Population</th>\n",
       "      <th>Population1</th>\n",
       "      <th>Primary language?</th>\n",
       "      <th>Region</th>\n",
       "    </tr>\n",
       "  </thead>\n",
       "  <tbody>\n",
       "    <tr>\n",
       "      <th>1</th>\n",
       "      <td>AUS</td>\n",
       "      <td>AUS</td>\n",
       "      <td>25019600</td>\n",
       "      <td>NaN</td>\n",
       "      <td>Yes</td>\n",
       "      <td>Oceania</td>\n",
       "    </tr>\n",
       "    <tr>\n",
       "      <th>2</th>\n",
       "      <td>NZL</td>\n",
       "      <td>NZL</td>\n",
       "      <td>4893830</td>\n",
       "      <td>NaN</td>\n",
       "      <td>Yes</td>\n",
       "      <td>Oceania</td>\n",
       "    </tr>\n",
       "    <tr>\n",
       "      <th>3</th>\n",
       "      <td>GBR</td>\n",
       "      <td>GBR</td>\n",
       "      <td>66040229</td>\n",
       "      <td>NaN</td>\n",
       "      <td>Yes</td>\n",
       "      <td>Europe</td>\n",
       "    </tr>\n",
       "    <tr>\n",
       "      <th>4</th>\n",
       "      <td>USA</td>\n",
       "      <td>USA</td>\n",
       "      <td>325719178</td>\n",
       "      <td>NaN</td>\n",
       "      <td>Yes</td>\n",
       "      <td>North America/Oceania</td>\n",
       "    </tr>\n",
       "    <tr>\n",
       "      <th>1</th>\n",
       "      <td>ATG</td>\n",
       "      <td>ATG</td>\n",
       "      <td>NaN</td>\n",
       "      <td>85000</td>\n",
       "      <td>Yes</td>\n",
       "      <td>Caribbean</td>\n",
       "    </tr>\n",
       "  </tbody>\n",
       "</table>\n",
       "</div>"
      ],
      "text/plain": [
       "  Alpha-3 Code Country Population Population1 Primary language?  \\\n",
       "1          AUS     AUS   25019600         NaN               Yes   \n",
       "2          NZL     NZL    4893830         NaN               Yes   \n",
       "3          GBR     GBR   66040229         NaN               Yes   \n",
       "4          USA     USA  325719178         NaN               Yes   \n",
       "1          ATG     ATG        NaN       85000               Yes   \n",
       "\n",
       "                  Region  \n",
       "1                Oceania  \n",
       "2                Oceania  \n",
       "3                 Europe  \n",
       "4  North America/Oceania  \n",
       "1              Caribbean  "
      ]
     },
     "execution_count": 13,
     "metadata": {},
     "output_type": "execute_result"
    }
   ],
   "source": [
    "#checkpoint from countries\n",
    "tables = pd.read_html(\"https://en.wikipedia.org/wiki/List_of_territorial_entities_where_English_is_an_official_language\")\n",
    "\n",
    "# this function will clean country name \n",
    "def clean(name):\n",
    "    end=name.find('[')\n",
    "    if end==-1:\n",
    "        return name\n",
    "    if end > 0:\n",
    "        return name[:end]\n",
    "\n",
    "# this function will convert name into alpha3 code\n",
    "def name_code(input_name):\n",
    "    country_dict = {}\n",
    "    for country in pycountry.countries:\n",
    "            country_dict[str.lower(country.name)] = country.alpha_3\n",
    "    try:\n",
    "        return country_dict[str.lower(input_name)]\n",
    "    except KeyError:\n",
    "        return 'unknown'\n",
    "\n",
    "# Countries where English is a de jure and de facto official language \n",
    "table=tables[1]\n",
    "countries=pd.DataFrame(table)\n",
    "countries.columns = countries.iloc[0]\n",
    "countries=countries.drop(countries.index[0])\n",
    "\n",
    "# Countries where English is a de facto official language \n",
    "countries.Country=countries.Country.apply( lambda x:clean(x))\n",
    "countries.Country=countries.Country.apply( lambda x:clean(x))# little customization & this step is repeated\n",
    "countries=countries.drop('Nr',axis=1)\n",
    "countries.head()\n",
    "\n",
    "df=pd.DataFrame(tables[0])\n",
    "df.columns=df.iloc[0]\n",
    "df=df.drop(df.index[0])\n",
    "df.Country=df.Country.apply(lambda x:clean(x))\n",
    "df=df.drop('Nr',axis=1)\n",
    "\n",
    "countries=pd.concat([df,countries],axis=0) # concating both the dataframes corresponding to tables in page\n",
    " \n",
    "countries.Country=countries.Country.apply(lambda x:name_code(x))\n",
    "eng_countries=countries.Country.tolist()\n",
    "print(\"------------This what we get as a table-------------\\n\")\n",
    "countries.head()"
   ]
  },
  {
   "cell_type": "markdown",
   "metadata": {},
   "source": [
    "### Country analysis and this is only about venture from here"
   ]
  },
  {
   "cell_type": "code",
   "execution_count": 14,
   "metadata": {
    "collapsed": true
   },
   "outputs": [],
   "source": [
    "venture_by_country = venture_data.groupby('country_code') #grouping countries on venture investment"
   ]
  },
  {
   "cell_type": "markdown",
   "metadata": {},
   "source": [
    "### we are finding out what are those top 9 countries"
   ]
  },
  {
   "cell_type": "code",
   "execution_count": 15,
   "metadata": {
    "collapsed": false
   },
   "outputs": [
    {
     "name": "stdout",
     "output_type": "stream",
     "text": [
      "top 9 countries are:  ['USA', 'CHN', 'GBR', 'IND', 'CAN', 'FRA', 'ISR', 'DEU', 'JPN']\n"
     ]
    }
   ],
   "source": [
    "top=venture_by_country['raised_amount_usd'].sum().sort_values(ascending=False).head(9) #filtering top9 countries\n",
    "top=top.index.tolist()\n",
    "print(\"top 9 countries are: \",top) # making list of those top 9 countries"
   ]
  },
  {
   "cell_type": "markdown",
   "metadata": {},
   "source": [
    "### Top 3 english speaking countries based on venture investment"
   ]
  },
  {
   "cell_type": "code",
   "execution_count": 16,
   "metadata": {
    "collapsed": false
   },
   "outputs": [
    {
     "name": "stdout",
     "output_type": "stream",
     "text": [
      "these are top 3 english speaking countries in investment type venture\n",
      "1 USA\n",
      "2 GBR\n",
      "3 IND\n",
      "['USA', 'GBR', 'IND'] \n",
      "\n",
      "  list top 3 english countries for future use\n"
     ]
    }
   ],
   "source": [
    "pos=1\n",
    "top3=[]\n",
    "print(\"these are top 3 english speaking countries in investment type venture\")\n",
    "for i in top:\n",
    "    if pos == 4:\n",
    "        break\n",
    "    if i in eng_countries: # eng_countries are list generated in other cell where we extracted countries data from wikipedia\n",
    "        top3.append(i)\n",
    "        print(pos,i)\n",
    "        pos+=1\n",
    "print(top3,\"\\n\\n  list top 3 english countries for future use\")"
   ]
  },
  {
   "cell_type": "code",
   "execution_count": 17,
   "metadata": {
    "collapsed": false
   },
   "outputs": [],
   "source": [
    "# top 9 countries in investment type venture\n",
    "top9 = venture_data[venture_data['country_code'].isin(top)]\n",
    "top9=top9[~top9.category_list.isnull()] # removing the null category since we are going for sector analysis"
   ]
  },
  {
   "cell_type": "code",
   "execution_count": 18,
   "metadata": {
    "collapsed": false
   },
   "outputs": [
    {
     "data": {
      "text/html": [
       "<div>\n",
       "<table border=\"1\" class=\"dataframe\">\n",
       "  <thead>\n",
       "    <tr style=\"text-align: right;\">\n",
       "      <th></th>\n",
       "      <th>company_permalink</th>\n",
       "      <th>funding_round_permalink</th>\n",
       "      <th>funding_round_type</th>\n",
       "      <th>funded_at</th>\n",
       "      <th>raised_amount_usd</th>\n",
       "      <th>permalink</th>\n",
       "      <th>name</th>\n",
       "      <th>homepage_url</th>\n",
       "      <th>category_list</th>\n",
       "      <th>status</th>\n",
       "      <th>country_code</th>\n",
       "      <th>state_code</th>\n",
       "      <th>region</th>\n",
       "      <th>city</th>\n",
       "    </tr>\n",
       "  </thead>\n",
       "  <tbody>\n",
       "    <tr>\n",
       "      <th>0</th>\n",
       "      <td>/organization/-fame</td>\n",
       "      <td>/funding-round/9a01d05418af9f794eebff7ace91f638</td>\n",
       "      <td>venture</td>\n",
       "      <td>05-01-2015</td>\n",
       "      <td>10000000.0</td>\n",
       "      <td>/organization/-fame</td>\n",
       "      <td>#fame</td>\n",
       "      <td>http://livfame.com</td>\n",
       "      <td>Media</td>\n",
       "      <td>operating</td>\n",
       "      <td>IND</td>\n",
       "      <td>16</td>\n",
       "      <td>Mumbai</td>\n",
       "      <td>Mumbai</td>\n",
       "    </tr>\n",
       "    <tr>\n",
       "      <th>4</th>\n",
       "      <td>/organization/0-6-com</td>\n",
       "      <td>/funding-round/5727accaeaa57461bd22a9bdd945382d</td>\n",
       "      <td>venture</td>\n",
       "      <td>19-03-2008</td>\n",
       "      <td>2000000.0</td>\n",
       "      <td>/organization/0-6-com</td>\n",
       "      <td>0-6.com</td>\n",
       "      <td>http://www.0-6.com</td>\n",
       "      <td>Curated Web</td>\n",
       "      <td>operating</td>\n",
       "      <td>CHN</td>\n",
       "      <td>22</td>\n",
       "      <td>Beijing</td>\n",
       "      <td>Beijing</td>\n",
       "    </tr>\n",
       "    <tr>\n",
       "      <th>8</th>\n",
       "      <td>/organization/0ndine-biomedical-inc</td>\n",
       "      <td>/funding-round/954b9499724b946ad8c396a57a5f3b72</td>\n",
       "      <td>venture</td>\n",
       "      <td>21-12-2009</td>\n",
       "      <td>719491.0</td>\n",
       "      <td>/organization/0ndine-biomedical-inc</td>\n",
       "      <td>Ondine Biomedical Inc.</td>\n",
       "      <td>http://ondinebio.com</td>\n",
       "      <td>Biotechnology</td>\n",
       "      <td>operating</td>\n",
       "      <td>CAN</td>\n",
       "      <td>BC</td>\n",
       "      <td>Vancouver</td>\n",
       "      <td>Vancouver</td>\n",
       "    </tr>\n",
       "  </tbody>\n",
       "</table>\n",
       "</div>"
      ],
      "text/plain": [
       "                     company_permalink  \\\n",
       "0                  /organization/-fame   \n",
       "4                /organization/0-6-com   \n",
       "8  /organization/0ndine-biomedical-inc   \n",
       "\n",
       "                           funding_round_permalink funding_round_type  \\\n",
       "0  /funding-round/9a01d05418af9f794eebff7ace91f638            venture   \n",
       "4  /funding-round/5727accaeaa57461bd22a9bdd945382d            venture   \n",
       "8  /funding-round/954b9499724b946ad8c396a57a5f3b72            venture   \n",
       "\n",
       "    funded_at  raised_amount_usd                            permalink  \\\n",
       "0  05-01-2015         10000000.0                  /organization/-fame   \n",
       "4  19-03-2008          2000000.0                /organization/0-6-com   \n",
       "8  21-12-2009           719491.0  /organization/0ndine-biomedical-inc   \n",
       "\n",
       "                     name          homepage_url  category_list     status  \\\n",
       "0                   #fame    http://livfame.com          Media  operating   \n",
       "4                 0-6.com    http://www.0-6.com    Curated Web  operating   \n",
       "8  Ondine Biomedical Inc.  http://ondinebio.com  Biotechnology  operating   \n",
       "\n",
       "  country_code state_code     region       city  \n",
       "0          IND         16     Mumbai     Mumbai  \n",
       "4          CHN         22    Beijing    Beijing  \n",
       "8          CAN         BC  Vancouver  Vancouver  "
      ]
     },
     "execution_count": 18,
     "metadata": {},
     "output_type": "execute_result"
    }
   ],
   "source": [
    "top9.head(3)"
   ]
  },
  {
   "cell_type": "markdown",
   "metadata": {},
   "source": [
    "## Checkpoint 4 Sector Analysis 1"
   ]
  },
  {
   "cell_type": "markdown",
   "metadata": {},
   "source": [
    "#### As we know category list contains many sectors and separated by ' | ' so first value is primary sector as mentioned in question. so we are going to pull out primary category and make it a coulmn for dataframe"
   ]
  },
  {
   "cell_type": "code",
   "execution_count": 19,
   "metadata": {
    "collapsed": true
   },
   "outputs": [],
   "source": [
    "# this primary sector column is extracted from category list column\n",
    "top9['primary_sector'] =top9['category_list'].astype(str).apply(lambda x: x.split('|')[0])"
   ]
  },
  {
   "cell_type": "code",
   "execution_count": 20,
   "metadata": {
    "collapsed": false
   },
   "outputs": [
    {
     "data": {
      "text/html": [
       "<div>\n",
       "<table border=\"1\" class=\"dataframe\">\n",
       "  <thead>\n",
       "    <tr style=\"text-align: right;\">\n",
       "      <th></th>\n",
       "      <th>category_list</th>\n",
       "      <th>Automotive &amp; Sports</th>\n",
       "      <th>Blanks</th>\n",
       "      <th>Cleantech / Semiconductors</th>\n",
       "      <th>Entertainment</th>\n",
       "      <th>Health</th>\n",
       "      <th>Manufacturing</th>\n",
       "      <th>News, Search and Messaging</th>\n",
       "      <th>Others</th>\n",
       "      <th>Social, Finance, Analytics, Advertising</th>\n",
       "    </tr>\n",
       "  </thead>\n",
       "  <tbody>\n",
       "    <tr>\n",
       "      <th>0</th>\n",
       "      <td>NaN</td>\n",
       "      <td>0</td>\n",
       "      <td>1</td>\n",
       "      <td>0</td>\n",
       "      <td>0</td>\n",
       "      <td>0</td>\n",
       "      <td>0</td>\n",
       "      <td>0</td>\n",
       "      <td>0</td>\n",
       "      <td>0</td>\n",
       "    </tr>\n",
       "    <tr>\n",
       "      <th>1</th>\n",
       "      <td>3D</td>\n",
       "      <td>0</td>\n",
       "      <td>0</td>\n",
       "      <td>0</td>\n",
       "      <td>0</td>\n",
       "      <td>0</td>\n",
       "      <td>1</td>\n",
       "      <td>0</td>\n",
       "      <td>0</td>\n",
       "      <td>0</td>\n",
       "    </tr>\n",
       "    <tr>\n",
       "      <th>2</th>\n",
       "      <td>3D Printing</td>\n",
       "      <td>0</td>\n",
       "      <td>0</td>\n",
       "      <td>0</td>\n",
       "      <td>0</td>\n",
       "      <td>0</td>\n",
       "      <td>1</td>\n",
       "      <td>0</td>\n",
       "      <td>0</td>\n",
       "      <td>0</td>\n",
       "    </tr>\n",
       "    <tr>\n",
       "      <th>3</th>\n",
       "      <td>3D Technology</td>\n",
       "      <td>0</td>\n",
       "      <td>0</td>\n",
       "      <td>0</td>\n",
       "      <td>0</td>\n",
       "      <td>0</td>\n",
       "      <td>1</td>\n",
       "      <td>0</td>\n",
       "      <td>0</td>\n",
       "      <td>0</td>\n",
       "    </tr>\n",
       "    <tr>\n",
       "      <th>4</th>\n",
       "      <td>Accounting</td>\n",
       "      <td>0</td>\n",
       "      <td>0</td>\n",
       "      <td>0</td>\n",
       "      <td>0</td>\n",
       "      <td>0</td>\n",
       "      <td>0</td>\n",
       "      <td>0</td>\n",
       "      <td>0</td>\n",
       "      <td>1</td>\n",
       "    </tr>\n",
       "    <tr>\n",
       "      <th>5</th>\n",
       "      <td>Active Lifestyle</td>\n",
       "      <td>0</td>\n",
       "      <td>0</td>\n",
       "      <td>0</td>\n",
       "      <td>0</td>\n",
       "      <td>1</td>\n",
       "      <td>0</td>\n",
       "      <td>0</td>\n",
       "      <td>0</td>\n",
       "      <td>0</td>\n",
       "    </tr>\n",
       "    <tr>\n",
       "      <th>6</th>\n",
       "      <td>Ad Targeting</td>\n",
       "      <td>0</td>\n",
       "      <td>0</td>\n",
       "      <td>0</td>\n",
       "      <td>0</td>\n",
       "      <td>0</td>\n",
       "      <td>0</td>\n",
       "      <td>0</td>\n",
       "      <td>0</td>\n",
       "      <td>1</td>\n",
       "    </tr>\n",
       "    <tr>\n",
       "      <th>7</th>\n",
       "      <td>Advanced Materials</td>\n",
       "      <td>0</td>\n",
       "      <td>0</td>\n",
       "      <td>0</td>\n",
       "      <td>0</td>\n",
       "      <td>0</td>\n",
       "      <td>1</td>\n",
       "      <td>0</td>\n",
       "      <td>0</td>\n",
       "      <td>0</td>\n",
       "    </tr>\n",
       "    <tr>\n",
       "      <th>8</th>\n",
       "      <td>Adventure Travel</td>\n",
       "      <td>1</td>\n",
       "      <td>0</td>\n",
       "      <td>0</td>\n",
       "      <td>0</td>\n",
       "      <td>0</td>\n",
       "      <td>0</td>\n",
       "      <td>0</td>\n",
       "      <td>0</td>\n",
       "      <td>0</td>\n",
       "    </tr>\n",
       "    <tr>\n",
       "      <th>9</th>\n",
       "      <td>Advertising</td>\n",
       "      <td>0</td>\n",
       "      <td>0</td>\n",
       "      <td>0</td>\n",
       "      <td>0</td>\n",
       "      <td>0</td>\n",
       "      <td>0</td>\n",
       "      <td>0</td>\n",
       "      <td>0</td>\n",
       "      <td>1</td>\n",
       "    </tr>\n",
       "    <tr>\n",
       "      <th>10</th>\n",
       "      <td>Advertising Exchanges</td>\n",
       "      <td>0</td>\n",
       "      <td>0</td>\n",
       "      <td>0</td>\n",
       "      <td>0</td>\n",
       "      <td>0</td>\n",
       "      <td>0</td>\n",
       "      <td>0</td>\n",
       "      <td>0</td>\n",
       "      <td>1</td>\n",
       "    </tr>\n",
       "    <tr>\n",
       "      <th>11</th>\n",
       "      <td>Advertising Networks</td>\n",
       "      <td>0</td>\n",
       "      <td>0</td>\n",
       "      <td>0</td>\n",
       "      <td>0</td>\n",
       "      <td>0</td>\n",
       "      <td>0</td>\n",
       "      <td>0</td>\n",
       "      <td>0</td>\n",
       "      <td>1</td>\n",
       "    </tr>\n",
       "    <tr>\n",
       "      <th>12</th>\n",
       "      <td>Advertising Platforms</td>\n",
       "      <td>0</td>\n",
       "      <td>0</td>\n",
       "      <td>0</td>\n",
       "      <td>0</td>\n",
       "      <td>0</td>\n",
       "      <td>0</td>\n",
       "      <td>0</td>\n",
       "      <td>0</td>\n",
       "      <td>1</td>\n",
       "    </tr>\n",
       "    <tr>\n",
       "      <th>13</th>\n",
       "      <td>Advice</td>\n",
       "      <td>0</td>\n",
       "      <td>0</td>\n",
       "      <td>0</td>\n",
       "      <td>0</td>\n",
       "      <td>0</td>\n",
       "      <td>0</td>\n",
       "      <td>0</td>\n",
       "      <td>1</td>\n",
       "      <td>0</td>\n",
       "    </tr>\n",
       "    <tr>\n",
       "      <th>14</th>\n",
       "      <td>Aerospace</td>\n",
       "      <td>1</td>\n",
       "      <td>0</td>\n",
       "      <td>0</td>\n",
       "      <td>0</td>\n",
       "      <td>0</td>\n",
       "      <td>0</td>\n",
       "      <td>0</td>\n",
       "      <td>0</td>\n",
       "      <td>0</td>\n",
       "    </tr>\n",
       "    <tr>\n",
       "      <th>15</th>\n",
       "      <td>Agriculture</td>\n",
       "      <td>0</td>\n",
       "      <td>0</td>\n",
       "      <td>0</td>\n",
       "      <td>0</td>\n",
       "      <td>0</td>\n",
       "      <td>1</td>\n",
       "      <td>0</td>\n",
       "      <td>0</td>\n",
       "      <td>0</td>\n",
       "    </tr>\n",
       "    <tr>\n",
       "      <th>16</th>\n",
       "      <td>Air Pollution Control</td>\n",
       "      <td>0</td>\n",
       "      <td>0</td>\n",
       "      <td>1</td>\n",
       "      <td>0</td>\n",
       "      <td>0</td>\n",
       "      <td>0</td>\n",
       "      <td>0</td>\n",
       "      <td>0</td>\n",
       "      <td>0</td>\n",
       "    </tr>\n",
       "    <tr>\n",
       "      <th>17</th>\n",
       "      <td>Algorithms</td>\n",
       "      <td>0</td>\n",
       "      <td>0</td>\n",
       "      <td>0</td>\n",
       "      <td>0</td>\n",
       "      <td>0</td>\n",
       "      <td>0</td>\n",
       "      <td>0</td>\n",
       "      <td>1</td>\n",
       "      <td>0</td>\n",
       "    </tr>\n",
       "    <tr>\n",
       "      <th>18</th>\n",
       "      <td>All Markets</td>\n",
       "      <td>0</td>\n",
       "      <td>0</td>\n",
       "      <td>0</td>\n",
       "      <td>0</td>\n",
       "      <td>0</td>\n",
       "      <td>0</td>\n",
       "      <td>0</td>\n",
       "      <td>1</td>\n",
       "      <td>0</td>\n",
       "    </tr>\n",
       "    <tr>\n",
       "      <th>19</th>\n",
       "      <td>All Students</td>\n",
       "      <td>0</td>\n",
       "      <td>0</td>\n",
       "      <td>0</td>\n",
       "      <td>0</td>\n",
       "      <td>0</td>\n",
       "      <td>0</td>\n",
       "      <td>0</td>\n",
       "      <td>1</td>\n",
       "      <td>0</td>\n",
       "    </tr>\n",
       "  </tbody>\n",
       "</table>\n",
       "</div>"
      ],
      "text/plain": [
       "            category_list  Automotive & Sports  Blanks  \\\n",
       "0                     NaN                    0       1   \n",
       "1                      3D                    0       0   \n",
       "2             3D Printing                    0       0   \n",
       "3           3D Technology                    0       0   \n",
       "4              Accounting                    0       0   \n",
       "5        Active Lifestyle                    0       0   \n",
       "6            Ad Targeting                    0       0   \n",
       "7      Advanced Materials                    0       0   \n",
       "8        Adventure Travel                    1       0   \n",
       "9             Advertising                    0       0   \n",
       "10  Advertising Exchanges                    0       0   \n",
       "11   Advertising Networks                    0       0   \n",
       "12  Advertising Platforms                    0       0   \n",
       "13                 Advice                    0       0   \n",
       "14              Aerospace                    1       0   \n",
       "15            Agriculture                    0       0   \n",
       "16  Air Pollution Control                    0       0   \n",
       "17             Algorithms                    0       0   \n",
       "18            All Markets                    0       0   \n",
       "19           All Students                    0       0   \n",
       "\n",
       "    Cleantech / Semiconductors  Entertainment  Health  Manufacturing  \\\n",
       "0                            0              0       0              0   \n",
       "1                            0              0       0              1   \n",
       "2                            0              0       0              1   \n",
       "3                            0              0       0              1   \n",
       "4                            0              0       0              0   \n",
       "5                            0              0       1              0   \n",
       "6                            0              0       0              0   \n",
       "7                            0              0       0              1   \n",
       "8                            0              0       0              0   \n",
       "9                            0              0       0              0   \n",
       "10                           0              0       0              0   \n",
       "11                           0              0       0              0   \n",
       "12                           0              0       0              0   \n",
       "13                           0              0       0              0   \n",
       "14                           0              0       0              0   \n",
       "15                           0              0       0              1   \n",
       "16                           1              0       0              0   \n",
       "17                           0              0       0              0   \n",
       "18                           0              0       0              0   \n",
       "19                           0              0       0              0   \n",
       "\n",
       "    News, Search and Messaging  Others  \\\n",
       "0                            0       0   \n",
       "1                            0       0   \n",
       "2                            0       0   \n",
       "3                            0       0   \n",
       "4                            0       0   \n",
       "5                            0       0   \n",
       "6                            0       0   \n",
       "7                            0       0   \n",
       "8                            0       0   \n",
       "9                            0       0   \n",
       "10                           0       0   \n",
       "11                           0       0   \n",
       "12                           0       0   \n",
       "13                           0       1   \n",
       "14                           0       0   \n",
       "15                           0       0   \n",
       "16                           0       0   \n",
       "17                           0       1   \n",
       "18                           0       1   \n",
       "19                           0       1   \n",
       "\n",
       "    Social, Finance, Analytics, Advertising  \n",
       "0                                         0  \n",
       "1                                         0  \n",
       "2                                         0  \n",
       "3                                         0  \n",
       "4                                         1  \n",
       "5                                         0  \n",
       "6                                         1  \n",
       "7                                         0  \n",
       "8                                         0  \n",
       "9                                         1  \n",
       "10                                        1  \n",
       "11                                        1  \n",
       "12                                        1  \n",
       "13                                        0  \n",
       "14                                        0  \n",
       "15                                        0  \n",
       "16                                        0  \n",
       "17                                        0  \n",
       "18                                        0  \n",
       "19                                        0  "
      ]
     },
     "execution_count": 20,
     "metadata": {},
     "output_type": "execute_result"
    }
   ],
   "source": [
    "# old friend mapping we read in second cell \n",
    "mapping.head(20)\n",
    "\n",
    "# i can observe errors in category_list column"
   ]
  },
  {
   "cell_type": "code",
   "execution_count": 21,
   "metadata": {
    "collapsed": true
   },
   "outputs": [],
   "source": [
    "# I can see a NaN in category_list coulmn so we have to get rid of such\n",
    "\n",
    "mapping=mapping[~mapping.category_list.isnull()]\n",
    "\n",
    "# category list have errors in sepelling instead of 'na' we have 0 so we have to clean that before merging with top9 df"
   ]
  },
  {
   "cell_type": "code",
   "execution_count": 22,
   "metadata": {
    "collapsed": true
   },
   "outputs": [],
   "source": [
    "# this method can clean category_list column\n",
    "import re\n",
    "def category_clean(x):\n",
    "    str(x)\n",
    "    x=re.sub('[0]', 'na', x)\n",
    "    return x\n",
    "\n",
    "mapping['category_list'] = mapping.category_list.apply(lambda x:category_clean(x))"
   ]
  },
  {
   "cell_type": "code",
   "execution_count": 23,
   "metadata": {
    "collapsed": true
   },
   "outputs": [],
   "source": [
    "# Unpivot a DataFrame from wide format to long format with melt method\n",
    "mapping=pd.melt(mapping, id_vars=['category_list'], var_name=['main_sector'])"
   ]
  },
  {
   "cell_type": "code",
   "execution_count": 24,
   "metadata": {
    "collapsed": false
   },
   "outputs": [],
   "source": [
    "# we are selecting where value is 1 zero means false\n",
    "mapping=mapping[mapping.value==1]\n",
    "mapping=mapping.drop('value',axis=1)# since value coumns have only one we dont need that"
   ]
  },
  {
   "cell_type": "code",
   "execution_count": 25,
   "metadata": {
    "collapsed": false
   },
   "outputs": [
    {
     "data": {
      "text/html": [
       "<div>\n",
       "<table border=\"1\" class=\"dataframe\">\n",
       "  <thead>\n",
       "    <tr style=\"text-align: right;\">\n",
       "      <th></th>\n",
       "      <th>category_list</th>\n",
       "      <th>main_sector</th>\n",
       "    </tr>\n",
       "  </thead>\n",
       "  <tbody>\n",
       "    <tr>\n",
       "      <th>7</th>\n",
       "      <td>Adventure Travel</td>\n",
       "      <td>Automotive &amp; Sports</td>\n",
       "    </tr>\n",
       "    <tr>\n",
       "      <th>13</th>\n",
       "      <td>Aerospace</td>\n",
       "      <td>Automotive &amp; Sports</td>\n",
       "    </tr>\n",
       "    <tr>\n",
       "      <th>44</th>\n",
       "      <td>Auto</td>\n",
       "      <td>Automotive &amp; Sports</td>\n",
       "    </tr>\n",
       "    <tr>\n",
       "      <th>45</th>\n",
       "      <td>Automated Kiosk</td>\n",
       "      <td>Automotive &amp; Sports</td>\n",
       "    </tr>\n",
       "    <tr>\n",
       "      <th>46</th>\n",
       "      <td>Automotive</td>\n",
       "      <td>Automotive &amp; Sports</td>\n",
       "    </tr>\n",
       "  </tbody>\n",
       "</table>\n",
       "</div>"
      ],
      "text/plain": [
       "       category_list          main_sector\n",
       "7   Adventure Travel  Automotive & Sports\n",
       "13         Aerospace  Automotive & Sports\n",
       "44              Auto  Automotive & Sports\n",
       "45   Automated Kiosk  Automotive & Sports\n",
       "46        Automotive  Automotive & Sports"
      ]
     },
     "execution_count": 25,
     "metadata": {},
     "output_type": "execute_result"
    }
   ],
   "source": [
    "# here I think we have desired mapping dataframe for analysis\n",
    "mapping.head()"
   ]
  },
  {
   "cell_type": "markdown",
   "metadata": {},
   "source": [
    "#### I think we have desirable mapping dataframe to map into sectors by merging with top9 dataframe"
   ]
  },
  {
   "cell_type": "code",
   "execution_count": 26,
   "metadata": {
    "collapsed": true
   },
   "outputs": [],
   "source": [
    "# merging to mapping with top9 dataframe \n",
    "top9=pd.merge(top9,mapping,how=\"left\",left_on=\"primary_sector\",right_on=\"category_list\")"
   ]
  },
  {
   "cell_type": "code",
   "execution_count": 27,
   "metadata": {
    "collapsed": false
   },
   "outputs": [
    {
     "data": {
      "text/html": [
       "<div>\n",
       "<table border=\"1\" class=\"dataframe\">\n",
       "  <thead>\n",
       "    <tr style=\"text-align: right;\">\n",
       "      <th></th>\n",
       "      <th>company_permalink</th>\n",
       "      <th>funding_round_permalink</th>\n",
       "      <th>funding_round_type</th>\n",
       "      <th>funded_at</th>\n",
       "      <th>raised_amount_usd</th>\n",
       "      <th>permalink</th>\n",
       "      <th>name</th>\n",
       "      <th>homepage_url</th>\n",
       "      <th>category_list_x</th>\n",
       "      <th>status</th>\n",
       "      <th>country_code</th>\n",
       "      <th>state_code</th>\n",
       "      <th>region</th>\n",
       "      <th>city</th>\n",
       "      <th>primary_sector</th>\n",
       "      <th>category_list_y</th>\n",
       "      <th>main_sector</th>\n",
       "    </tr>\n",
       "  </thead>\n",
       "  <tbody>\n",
       "    <tr>\n",
       "      <th>0</th>\n",
       "      <td>/organization/-fame</td>\n",
       "      <td>/funding-round/9a01d05418af9f794eebff7ace91f638</td>\n",
       "      <td>venture</td>\n",
       "      <td>05-01-2015</td>\n",
       "      <td>10000000.0</td>\n",
       "      <td>/organization/-fame</td>\n",
       "      <td>#fame</td>\n",
       "      <td>http://livfame.com</td>\n",
       "      <td>Media</td>\n",
       "      <td>operating</td>\n",
       "      <td>IND</td>\n",
       "      <td>16</td>\n",
       "      <td>Mumbai</td>\n",
       "      <td>Mumbai</td>\n",
       "      <td>Media</td>\n",
       "      <td>Media</td>\n",
       "      <td>Entertainment</td>\n",
       "    </tr>\n",
       "    <tr>\n",
       "      <th>1</th>\n",
       "      <td>/organization/0-6-com</td>\n",
       "      <td>/funding-round/5727accaeaa57461bd22a9bdd945382d</td>\n",
       "      <td>venture</td>\n",
       "      <td>19-03-2008</td>\n",
       "      <td>2000000.0</td>\n",
       "      <td>/organization/0-6-com</td>\n",
       "      <td>0-6.com</td>\n",
       "      <td>http://www.0-6.com</td>\n",
       "      <td>Curated Web</td>\n",
       "      <td>operating</td>\n",
       "      <td>CHN</td>\n",
       "      <td>22</td>\n",
       "      <td>Beijing</td>\n",
       "      <td>Beijing</td>\n",
       "      <td>Curated Web</td>\n",
       "      <td>Curated Web</td>\n",
       "      <td>News, Search and Messaging</td>\n",
       "    </tr>\n",
       "    <tr>\n",
       "      <th>2</th>\n",
       "      <td>/organization/0ndine-biomedical-inc</td>\n",
       "      <td>/funding-round/954b9499724b946ad8c396a57a5f3b72</td>\n",
       "      <td>venture</td>\n",
       "      <td>21-12-2009</td>\n",
       "      <td>719491.0</td>\n",
       "      <td>/organization/0ndine-biomedical-inc</td>\n",
       "      <td>Ondine Biomedical Inc.</td>\n",
       "      <td>http://ondinebio.com</td>\n",
       "      <td>Biotechnology</td>\n",
       "      <td>operating</td>\n",
       "      <td>CAN</td>\n",
       "      <td>BC</td>\n",
       "      <td>Vancouver</td>\n",
       "      <td>Vancouver</td>\n",
       "      <td>Biotechnology</td>\n",
       "      <td>Biotechnology</td>\n",
       "      <td>Cleantech / Semiconductors</td>\n",
       "    </tr>\n",
       "  </tbody>\n",
       "</table>\n",
       "</div>"
      ],
      "text/plain": [
       "                     company_permalink  \\\n",
       "0                  /organization/-fame   \n",
       "1                /organization/0-6-com   \n",
       "2  /organization/0ndine-biomedical-inc   \n",
       "\n",
       "                           funding_round_permalink funding_round_type  \\\n",
       "0  /funding-round/9a01d05418af9f794eebff7ace91f638            venture   \n",
       "1  /funding-round/5727accaeaa57461bd22a9bdd945382d            venture   \n",
       "2  /funding-round/954b9499724b946ad8c396a57a5f3b72            venture   \n",
       "\n",
       "    funded_at  raised_amount_usd                            permalink  \\\n",
       "0  05-01-2015         10000000.0                  /organization/-fame   \n",
       "1  19-03-2008          2000000.0                /organization/0-6-com   \n",
       "2  21-12-2009           719491.0  /organization/0ndine-biomedical-inc   \n",
       "\n",
       "                     name          homepage_url category_list_x     status  \\\n",
       "0                   #fame    http://livfame.com           Media  operating   \n",
       "1                 0-6.com    http://www.0-6.com     Curated Web  operating   \n",
       "2  Ondine Biomedical Inc.  http://ondinebio.com   Biotechnology  operating   \n",
       "\n",
       "  country_code state_code     region       city primary_sector  \\\n",
       "0          IND         16     Mumbai     Mumbai          Media   \n",
       "1          CHN         22    Beijing    Beijing    Curated Web   \n",
       "2          CAN         BC  Vancouver  Vancouver  Biotechnology   \n",
       "\n",
       "  category_list_y                 main_sector  \n",
       "0           Media               Entertainment  \n",
       "1     Curated Web  News, Search and Messaging  \n",
       "2   Biotechnology  Cleantech / Semiconductors  "
      ]
     },
     "execution_count": 27,
     "metadata": {},
     "output_type": "execute_result"
    }
   ],
   "source": [
    "top9.head(3)"
   ]
  },
  {
   "cell_type": "markdown",
   "metadata": {},
   "source": [
    "#### question all about top 3 countries so I wanted to make data frame only with top3 countries"
   ]
  },
  {
   "cell_type": "code",
   "execution_count": 28,
   "metadata": {
    "collapsed": true
   },
   "outputs": [],
   "source": [
    "# here i wanted to take top3  countries beacuse we are not considering about top9 as we created earlier\n",
    "top3_eng = top9[top9['country_code'].isin(top3)]"
   ]
  },
  {
   "cell_type": "code",
   "execution_count": 29,
   "metadata": {
    "collapsed": false
   },
   "outputs": [
    {
     "data": {
      "text/html": [
       "<div>\n",
       "<table border=\"1\" class=\"dataframe\">\n",
       "  <thead>\n",
       "    <tr style=\"text-align: right;\">\n",
       "      <th></th>\n",
       "      <th>company_permalink</th>\n",
       "      <th>funding_round_permalink</th>\n",
       "      <th>funding_round_type</th>\n",
       "      <th>funded_at</th>\n",
       "      <th>raised_amount_usd</th>\n",
       "      <th>permalink</th>\n",
       "      <th>name</th>\n",
       "      <th>homepage_url</th>\n",
       "      <th>category_list_x</th>\n",
       "      <th>status</th>\n",
       "      <th>country_code</th>\n",
       "      <th>state_code</th>\n",
       "      <th>region</th>\n",
       "      <th>city</th>\n",
       "      <th>primary_sector</th>\n",
       "      <th>category_list_y</th>\n",
       "      <th>main_sector</th>\n",
       "    </tr>\n",
       "  </thead>\n",
       "  <tbody>\n",
       "    <tr>\n",
       "      <th>0</th>\n",
       "      <td>/organization/-fame</td>\n",
       "      <td>/funding-round/9a01d05418af9f794eebff7ace91f638</td>\n",
       "      <td>venture</td>\n",
       "      <td>05-01-2015</td>\n",
       "      <td>10000000.0</td>\n",
       "      <td>/organization/-fame</td>\n",
       "      <td>#fame</td>\n",
       "      <td>http://livfame.com</td>\n",
       "      <td>Media</td>\n",
       "      <td>operating</td>\n",
       "      <td>IND</td>\n",
       "      <td>16</td>\n",
       "      <td>Mumbai</td>\n",
       "      <td>Mumbai</td>\n",
       "      <td>Media</td>\n",
       "      <td>Media</td>\n",
       "      <td>Entertainment</td>\n",
       "    </tr>\n",
       "    <tr>\n",
       "      <th>3</th>\n",
       "      <td>/organization/0xdata</td>\n",
       "      <td>/funding-round/3bb2ee4a2d89251a10aaa735b1180e44</td>\n",
       "      <td>venture</td>\n",
       "      <td>09-11-2015</td>\n",
       "      <td>20000000.0</td>\n",
       "      <td>/organization/0xdata</td>\n",
       "      <td>H2O.ai</td>\n",
       "      <td>http://h2o.ai/</td>\n",
       "      <td>Analytics</td>\n",
       "      <td>operating</td>\n",
       "      <td>USA</td>\n",
       "      <td>CA</td>\n",
       "      <td>SF Bay Area</td>\n",
       "      <td>Mountain View</td>\n",
       "      <td>Analytics</td>\n",
       "      <td>Analytics</td>\n",
       "      <td>Social, Finance, Analytics, Advertising</td>\n",
       "    </tr>\n",
       "    <tr>\n",
       "      <th>4</th>\n",
       "      <td>/organization/0xdata</td>\n",
       "      <td>/funding-round/ae2a174c06517c2394aed45006322a7e</td>\n",
       "      <td>venture</td>\n",
       "      <td>03-01-2013</td>\n",
       "      <td>1700000.0</td>\n",
       "      <td>/organization/0xdata</td>\n",
       "      <td>H2O.ai</td>\n",
       "      <td>http://h2o.ai/</td>\n",
       "      <td>Analytics</td>\n",
       "      <td>operating</td>\n",
       "      <td>USA</td>\n",
       "      <td>CA</td>\n",
       "      <td>SF Bay Area</td>\n",
       "      <td>Mountain View</td>\n",
       "      <td>Analytics</td>\n",
       "      <td>Analytics</td>\n",
       "      <td>Social, Finance, Analytics, Advertising</td>\n",
       "    </tr>\n",
       "  </tbody>\n",
       "</table>\n",
       "</div>"
      ],
      "text/plain": [
       "      company_permalink                          funding_round_permalink  \\\n",
       "0   /organization/-fame  /funding-round/9a01d05418af9f794eebff7ace91f638   \n",
       "3  /organization/0xdata  /funding-round/3bb2ee4a2d89251a10aaa735b1180e44   \n",
       "4  /organization/0xdata  /funding-round/ae2a174c06517c2394aed45006322a7e   \n",
       "\n",
       "  funding_round_type   funded_at  raised_amount_usd             permalink  \\\n",
       "0            venture  05-01-2015         10000000.0   /organization/-fame   \n",
       "3            venture  09-11-2015         20000000.0  /organization/0xdata   \n",
       "4            venture  03-01-2013          1700000.0  /organization/0xdata   \n",
       "\n",
       "     name        homepage_url category_list_x     status country_code  \\\n",
       "0   #fame  http://livfame.com           Media  operating          IND   \n",
       "3  H2O.ai      http://h2o.ai/       Analytics  operating          USA   \n",
       "4  H2O.ai      http://h2o.ai/       Analytics  operating          USA   \n",
       "\n",
       "  state_code       region           city primary_sector category_list_y  \\\n",
       "0         16       Mumbai         Mumbai          Media           Media   \n",
       "3         CA  SF Bay Area  Mountain View      Analytics       Analytics   \n",
       "4         CA  SF Bay Area  Mountain View      Analytics       Analytics   \n",
       "\n",
       "                               main_sector  \n",
       "0                            Entertainment  \n",
       "3  Social, Finance, Analytics, Advertising  \n",
       "4  Social, Finance, Analytics, Advertising  "
      ]
     },
     "execution_count": 29,
     "metadata": {},
     "output_type": "execute_result"
    }
   ],
   "source": [
    "top3_eng.head(3) # i hope head function should keep 3 as default. so everytime i dont need to pass 3"
   ]
  },
  {
   "cell_type": "markdown",
   "metadata": {},
   "source": [
    "## Checkpoint 5 Sector Analysis 2"
   ]
  },
  {
   "cell_type": "markdown",
   "metadata": {},
   "source": [
    "###### As we have top3 dataframe english speaking countries with investment type venture. We have to isolate investment type between 5-15 million since sparkfunds are more focused on such investments with conditional filtering"
   ]
  },
  {
   "cell_type": "code",
   "execution_count": 30,
   "metadata": {
    "collapsed": false
   },
   "outputs": [],
   "source": [
    "# filtering out the range sparkfund intrested in as mentioned 5-15 million \n",
    "top3_eng_venture= top3_eng[(top3_eng['raised_amount_usd'] >= 5000000) & (top3_eng['raised_amount_usd'] <= 15000000)]"
   ]
  },
  {
   "cell_type": "code",
   "execution_count": 31,
   "metadata": {
    "collapsed": false
   },
   "outputs": [],
   "source": [
    "# here i wanted to make 3 separate tables for further analysis as per question asked\n",
    "c1=top3_eng_venture[top3_eng_venture['country_code']==top3[0]]\n",
    "c2=top3_eng_venture[top3_eng_venture['country_code']==top3[1]]\n",
    "c3=top3_eng_venture[top3_eng_venture['country_code']==top3[2]]"
   ]
  },
  {
   "cell_type": "code",
   "execution_count": 32,
   "metadata": {
    "collapsed": false
   },
   "outputs": [
    {
     "name": "stdout",
     "output_type": "stream",
     "text": [
      "# of investments in country one 12064\n",
      "# of investments in country two 621\n",
      "# of investments in country three 328\n"
     ]
    }
   ],
   "source": [
    "# we have country wise investment counts in venture\n",
    "print(\"# of investments in country one\",c1.raised_amount_usd.count())\n",
    "print(\"# of investments in country two\",c2.raised_amount_usd.count())\n",
    "print(\"# of investments in country three\",c3.raised_amount_usd.count())"
   ]
  },
  {
   "cell_type": "code",
   "execution_count": 33,
   "metadata": {
    "collapsed": false
   },
   "outputs": [
    {
     "name": "stdout",
     "output_type": "stream",
     "text": [
      "amount invested for venture in country one 107766584223.0\n",
      "amount invested for venture in country two 5379078691.0\n",
      "amount invested for venture in country three 2949543602.0\n"
     ]
    }
   ],
   "source": [
    "# here we have country wise total amount raised dollors in venture \n",
    "print(\"amount invested for venture in country one\",c1.raised_amount_usd.sum())\n",
    "print(\"amount invested for venture in country two\",c2.raised_amount_usd.sum())\n",
    "print(\"amount invested for venture in country three\",c3.raised_amount_usd.sum())"
   ]
  },
  {
   "cell_type": "markdown",
   "metadata": {},
   "source": [
    "## Here countries are separately analysed one after other (Venture)\n",
    "\n",
    "# Country one  'USA\" best sectors and best companies to invest \n"
   ]
  },
  {
   "cell_type": "code",
   "execution_count": 34,
   "metadata": {
    "collapsed": false
   },
   "outputs": [
    {
     "data": {
      "text/html": [
       "<div>\n",
       "<table border=\"1\" class=\"dataframe\">\n",
       "  <thead>\n",
       "    <tr style=\"text-align: right;\">\n",
       "      <th></th>\n",
       "      <th>sum</th>\n",
       "      <th>count</th>\n",
       "    </tr>\n",
       "    <tr>\n",
       "      <th>main_sector</th>\n",
       "      <th></th>\n",
       "      <th></th>\n",
       "    </tr>\n",
       "  </thead>\n",
       "  <tbody>\n",
       "    <tr>\n",
       "      <th>Others</th>\n",
       "      <td>2.632101e+10</td>\n",
       "      <td>2950</td>\n",
       "    </tr>\n",
       "    <tr>\n",
       "      <th>Social, Finance, Analytics, Advertising</th>\n",
       "      <td>2.380738e+10</td>\n",
       "      <td>2714</td>\n",
       "    </tr>\n",
       "    <tr>\n",
       "      <th>Cleantech / Semiconductors</th>\n",
       "      <td>2.120663e+10</td>\n",
       "      <td>2300</td>\n",
       "    </tr>\n",
       "    <tr>\n",
       "      <th>News, Search and Messaging</th>\n",
       "      <td>1.395957e+10</td>\n",
       "      <td>1582</td>\n",
       "    </tr>\n",
       "    <tr>\n",
       "      <th>Health</th>\n",
       "      <td>8.211859e+09</td>\n",
       "      <td>909</td>\n",
       "    </tr>\n",
       "    <tr>\n",
       "      <th>Manufacturing</th>\n",
       "      <td>7.258553e+09</td>\n",
       "      <td>799</td>\n",
       "    </tr>\n",
       "    <tr>\n",
       "      <th>Entertainment</th>\n",
       "      <td>5.099198e+09</td>\n",
       "      <td>591</td>\n",
       "    </tr>\n",
       "    <tr>\n",
       "      <th>Automotive &amp; Sports</th>\n",
       "      <td>1.454104e+09</td>\n",
       "      <td>167</td>\n",
       "    </tr>\n",
       "  </tbody>\n",
       "</table>\n",
       "</div>"
      ],
      "text/plain": [
       "                                                  sum  count\n",
       "main_sector                                                 \n",
       "Others                                   2.632101e+10   2950\n",
       "Social, Finance, Analytics, Advertising  2.380738e+10   2714\n",
       "Cleantech / Semiconductors               2.120663e+10   2300\n",
       "News, Search and Messaging               1.395957e+10   1582\n",
       "Health                                   8.211859e+09    909\n",
       "Manufacturing                            7.258553e+09    799\n",
       "Entertainment                            5.099198e+09    591\n",
       "Automotive & Sports                      1.454104e+09    167"
      ]
     },
     "execution_count": 34,
     "metadata": {},
     "output_type": "execute_result"
    }
   ],
   "source": [
    "# here i am using pivot table for analysing \n",
    "c1_p_table=c1.pivot_table(values = 'raised_amount_usd',index = ['main_sector'], aggfunc = {'sum','count'})\n",
    "# creating a table for sorting count wise for 8 sectors\n",
    "c1_p_table.sort_values(by='count',ascending=False)"
   ]
  },
  {
   "cell_type": "markdown",
   "metadata": {},
   "source": [
    "### best company to invest in best sector of country one 'USA'"
   ]
  },
  {
   "cell_type": "code",
   "execution_count": 35,
   "metadata": {
    "collapsed": false
   },
   "outputs": [
    {
     "data": {
      "text/html": [
       "<div>\n",
       "<table border=\"1\" class=\"dataframe\">\n",
       "  <thead>\n",
       "    <tr style=\"text-align: right;\">\n",
       "      <th></th>\n",
       "      <th>raised_amount_usd</th>\n",
       "    </tr>\n",
       "    <tr>\n",
       "      <th>permalink</th>\n",
       "      <th></th>\n",
       "    </tr>\n",
       "  </thead>\n",
       "  <tbody>\n",
       "    <tr>\n",
       "      <th>/organization/virtustream</th>\n",
       "      <td>64300000.0</td>\n",
       "    </tr>\n",
       "  </tbody>\n",
       "</table>\n",
       "</div>"
      ],
      "text/plain": [
       "                           raised_amount_usd\n",
       "permalink                                   \n",
       "/organization/virtustream         64300000.0"
      ]
     },
     "execution_count": 35,
     "metadata": {},
     "output_type": "execute_result"
    }
   ],
   "source": [
    "# with little manual obesrvation. the first sector based of count investments is OTHERS\n",
    "com_oth=c1[c1.main_sector=='Others']\n",
    "\n",
    "# creating a dataframe and grouping sorting with highest amount it by permalink to analyse best company\n",
    "com_oth.groupby('permalink').sum().sort_values('raised_amount_usd',ascending=False).head(1)"
   ]
  },
  {
   "cell_type": "markdown",
   "metadata": {},
   "source": [
    "### best company to invest in second best sector of country one 'USA'"
   ]
  },
  {
   "cell_type": "code",
   "execution_count": 36,
   "metadata": {
    "collapsed": false
   },
   "outputs": [
    {
     "data": {
      "text/html": [
       "<div>\n",
       "<table border=\"1\" class=\"dataframe\">\n",
       "  <thead>\n",
       "    <tr style=\"text-align: right;\">\n",
       "      <th></th>\n",
       "      <th>raised_amount_usd</th>\n",
       "    </tr>\n",
       "    <tr>\n",
       "      <th>permalink</th>\n",
       "      <th></th>\n",
       "    </tr>\n",
       "  </thead>\n",
       "  <tbody>\n",
       "    <tr>\n",
       "      <th>/organization/shotspotter</th>\n",
       "      <td>67933006.0</td>\n",
       "    </tr>\n",
       "  </tbody>\n",
       "</table>\n",
       "</div>"
      ],
      "text/plain": [
       "                           raised_amount_usd\n",
       "permalink                                   \n",
       "/organization/shotspotter         67933006.0"
      ]
     },
     "execution_count": 36,
     "metadata": {},
     "output_type": "execute_result"
    }
   ],
   "source": [
    "# manual obesrvation. the secound palce in sector based of count investments is 'Social, Finance, Analytics, Advertising'\n",
    "com_sec_best=c1[c1.main_sector=='Social, Finance, Analytics, Advertising']\n",
    "\n",
    "# grouping the same dataframe by permalink based on second best sector and sorting based on amount raised\n",
    "com_sec_best.groupby('permalink').sum().sort_values('raised_amount_usd',ascending=False).head(1)"
   ]
  },
  {
   "cell_type": "markdown",
   "metadata": {},
   "source": [
    "# Country two  'GBR' best sectors and best companies to invest"
   ]
  },
  {
   "cell_type": "code",
   "execution_count": 37,
   "metadata": {
    "collapsed": false
   },
   "outputs": [
    {
     "data": {
      "text/html": [
       "<div>\n",
       "<table border=\"1\" class=\"dataframe\">\n",
       "  <thead>\n",
       "    <tr style=\"text-align: right;\">\n",
       "      <th></th>\n",
       "      <th>sum</th>\n",
       "      <th>count</th>\n",
       "    </tr>\n",
       "    <tr>\n",
       "      <th>main_sector</th>\n",
       "      <th></th>\n",
       "      <th></th>\n",
       "    </tr>\n",
       "  </thead>\n",
       "  <tbody>\n",
       "    <tr>\n",
       "      <th>Others</th>\n",
       "      <td>1.283624e+09</td>\n",
       "      <td>147</td>\n",
       "    </tr>\n",
       "    <tr>\n",
       "      <th>Social, Finance, Analytics, Advertising</th>\n",
       "      <td>1.089404e+09</td>\n",
       "      <td>133</td>\n",
       "    </tr>\n",
       "    <tr>\n",
       "      <th>Cleantech / Semiconductors</th>\n",
       "      <td>1.150140e+09</td>\n",
       "      <td>128</td>\n",
       "    </tr>\n",
       "    <tr>\n",
       "      <th>News, Search and Messaging</th>\n",
       "      <td>6.157462e+08</td>\n",
       "      <td>73</td>\n",
       "    </tr>\n",
       "    <tr>\n",
       "      <th>Entertainment</th>\n",
       "      <td>4.827847e+08</td>\n",
       "      <td>56</td>\n",
       "    </tr>\n",
       "    <tr>\n",
       "      <th>Manufacturing</th>\n",
       "      <td>3.619403e+08</td>\n",
       "      <td>42</td>\n",
       "    </tr>\n",
       "    <tr>\n",
       "      <th>Health</th>\n",
       "      <td>2.145375e+08</td>\n",
       "      <td>24</td>\n",
       "    </tr>\n",
       "    <tr>\n",
       "      <th>Automotive &amp; Sports</th>\n",
       "      <td>1.670516e+08</td>\n",
       "      <td>16</td>\n",
       "    </tr>\n",
       "  </tbody>\n",
       "</table>\n",
       "</div>"
      ],
      "text/plain": [
       "                                                  sum  count\n",
       "main_sector                                                 \n",
       "Others                                   1.283624e+09    147\n",
       "Social, Finance, Analytics, Advertising  1.089404e+09    133\n",
       "Cleantech / Semiconductors               1.150140e+09    128\n",
       "News, Search and Messaging               6.157462e+08     73\n",
       "Entertainment                            4.827847e+08     56\n",
       "Manufacturing                            3.619403e+08     42\n",
       "Health                                   2.145375e+08     24\n",
       "Automotive & Sports                      1.670516e+08     16"
      ]
     },
     "execution_count": 37,
     "metadata": {},
     "output_type": "execute_result"
    }
   ],
   "source": [
    "# most of the time i repeated steps based of same analysis conducted in different countries\n",
    "c2_p_table=c2.pivot_table(values = 'raised_amount_usd',index = ['main_sector'], aggfunc = {'sum','count'})\n",
    "c2_p_table.sort_values(by='count',ascending=False)"
   ]
  },
  {
   "cell_type": "markdown",
   "metadata": {},
   "source": [
    "### best company to invest in best sector of country two 'GBR'"
   ]
  },
  {
   "cell_type": "code",
   "execution_count": 38,
   "metadata": {
    "collapsed": false,
    "scrolled": true
   },
   "outputs": [
    {
     "data": {
      "text/html": [
       "<div>\n",
       "<table border=\"1\" class=\"dataframe\">\n",
       "  <thead>\n",
       "    <tr style=\"text-align: right;\">\n",
       "      <th></th>\n",
       "      <th>raised_amount_usd</th>\n",
       "    </tr>\n",
       "    <tr>\n",
       "      <th>permalink</th>\n",
       "      <th></th>\n",
       "    </tr>\n",
       "  </thead>\n",
       "  <tbody>\n",
       "    <tr>\n",
       "      <th>/organization/electric-cloud</th>\n",
       "      <td>37000000.0</td>\n",
       "    </tr>\n",
       "  </tbody>\n",
       "</table>\n",
       "</div>"
      ],
      "text/plain": [
       "                              raised_amount_usd\n",
       "permalink                                      \n",
       "/organization/electric-cloud         37000000.0"
      ]
     },
     "execution_count": 38,
     "metadata": {},
     "output_type": "execute_result"
    }
   ],
   "source": [
    "com_oth=c2[c2.main_sector=='Others']\n",
    "com_oth.groupby('permalink').sum().sort_values('raised_amount_usd',ascending=False).head(1)"
   ]
  },
  {
   "cell_type": "markdown",
   "metadata": {},
   "source": [
    "### best company to invest in second best sector of country two 'GBR\""
   ]
  },
  {
   "cell_type": "code",
   "execution_count": 39,
   "metadata": {
    "collapsed": false,
    "scrolled": true
   },
   "outputs": [
    {
     "data": {
      "text/html": [
       "<div>\n",
       "<table border=\"1\" class=\"dataframe\">\n",
       "  <thead>\n",
       "    <tr style=\"text-align: right;\">\n",
       "      <th></th>\n",
       "      <th>raised_amount_usd</th>\n",
       "    </tr>\n",
       "    <tr>\n",
       "      <th>permalink</th>\n",
       "      <th></th>\n",
       "    </tr>\n",
       "  </thead>\n",
       "  <tbody>\n",
       "    <tr>\n",
       "      <th>/organization/celltick-technologies</th>\n",
       "      <td>37500000.0</td>\n",
       "    </tr>\n",
       "  </tbody>\n",
       "</table>\n",
       "</div>"
      ],
      "text/plain": [
       "                                     raised_amount_usd\n",
       "permalink                                             \n",
       "/organization/celltick-technologies         37500000.0"
      ]
     },
     "execution_count": 39,
     "metadata": {},
     "output_type": "execute_result"
    }
   ],
   "source": [
    "com_sec_best=c2[c2.main_sector=='Social, Finance, Analytics, Advertising']\n",
    "com_sec_best.groupby('permalink').sum().sort_values('raised_amount_usd',ascending=False).head(1)"
   ]
  },
  {
   "cell_type": "markdown",
   "metadata": {},
   "source": [
    "# Country three 'IND' best sectors and best companies to invest"
   ]
  },
  {
   "cell_type": "code",
   "execution_count": 40,
   "metadata": {
    "collapsed": false
   },
   "outputs": [
    {
     "data": {
      "text/html": [
       "<div>\n",
       "<table border=\"1\" class=\"dataframe\">\n",
       "  <thead>\n",
       "    <tr style=\"text-align: right;\">\n",
       "      <th></th>\n",
       "      <th>sum</th>\n",
       "      <th>count</th>\n",
       "    </tr>\n",
       "    <tr>\n",
       "      <th>main_sector</th>\n",
       "      <th></th>\n",
       "      <th></th>\n",
       "    </tr>\n",
       "  </thead>\n",
       "  <tbody>\n",
       "    <tr>\n",
       "      <th>Others</th>\n",
       "      <td>1.013410e+09</td>\n",
       "      <td>110</td>\n",
       "    </tr>\n",
       "    <tr>\n",
       "      <th>Social, Finance, Analytics, Advertising</th>\n",
       "      <td>5.505496e+08</td>\n",
       "      <td>60</td>\n",
       "    </tr>\n",
       "    <tr>\n",
       "      <th>News, Search and Messaging</th>\n",
       "      <td>4.338345e+08</td>\n",
       "      <td>52</td>\n",
       "    </tr>\n",
       "    <tr>\n",
       "      <th>Entertainment</th>\n",
       "      <td>2.808300e+08</td>\n",
       "      <td>33</td>\n",
       "    </tr>\n",
       "    <tr>\n",
       "      <th>Manufacturing</th>\n",
       "      <td>2.009000e+08</td>\n",
       "      <td>21</td>\n",
       "    </tr>\n",
       "    <tr>\n",
       "      <th>Cleantech / Semiconductors</th>\n",
       "      <td>1.653800e+08</td>\n",
       "      <td>20</td>\n",
       "    </tr>\n",
       "    <tr>\n",
       "      <th>Health</th>\n",
       "      <td>1.677400e+08</td>\n",
       "      <td>19</td>\n",
       "    </tr>\n",
       "    <tr>\n",
       "      <th>Automotive &amp; Sports</th>\n",
       "      <td>1.369000e+08</td>\n",
       "      <td>13</td>\n",
       "    </tr>\n",
       "  </tbody>\n",
       "</table>\n",
       "</div>"
      ],
      "text/plain": [
       "                                                  sum  count\n",
       "main_sector                                                 \n",
       "Others                                   1.013410e+09    110\n",
       "Social, Finance, Analytics, Advertising  5.505496e+08     60\n",
       "News, Search and Messaging               4.338345e+08     52\n",
       "Entertainment                            2.808300e+08     33\n",
       "Manufacturing                            2.009000e+08     21\n",
       "Cleantech / Semiconductors               1.653800e+08     20\n",
       "Health                                   1.677400e+08     19\n",
       "Automotive & Sports                      1.369000e+08     13"
      ]
     },
     "execution_count": 40,
     "metadata": {},
     "output_type": "execute_result"
    }
   ],
   "source": [
    "c3_p_table=c3.pivot_table(values = 'raised_amount_usd',index = ['main_sector'], aggfunc = {'sum','count'})\n",
    "c3_p_table.sort_values(by='count',ascending=False)"
   ]
  },
  {
   "cell_type": "markdown",
   "metadata": {},
   "source": [
    "### best company to invest in best sector of country three 'IND'"
   ]
  },
  {
   "cell_type": "code",
   "execution_count": 41,
   "metadata": {
    "collapsed": false,
    "scrolled": true
   },
   "outputs": [
    {
     "data": {
      "text/html": [
       "<div>\n",
       "<table border=\"1\" class=\"dataframe\">\n",
       "  <thead>\n",
       "    <tr style=\"text-align: right;\">\n",
       "      <th></th>\n",
       "      <th>raised_amount_usd</th>\n",
       "    </tr>\n",
       "    <tr>\n",
       "      <th>permalink</th>\n",
       "      <th></th>\n",
       "    </tr>\n",
       "  </thead>\n",
       "  <tbody>\n",
       "    <tr>\n",
       "      <th>/organization/firstcry-com</th>\n",
       "      <td>39000000.0</td>\n",
       "    </tr>\n",
       "  </tbody>\n",
       "</table>\n",
       "</div>"
      ],
      "text/plain": [
       "                            raised_amount_usd\n",
       "permalink                                    \n",
       "/organization/firstcry-com         39000000.0"
      ]
     },
     "execution_count": 41,
     "metadata": {},
     "output_type": "execute_result"
    }
   ],
   "source": [
    "com_oth=c3[c3.main_sector=='Others']\n",
    "com_oth.groupby('permalink').sum().sort_values('raised_amount_usd',ascending=False).head(1)"
   ]
  },
  {
   "cell_type": "markdown",
   "metadata": {},
   "source": [
    "### best company to invest in second best sector of country three 'IND'"
   ]
  },
  {
   "cell_type": "code",
   "execution_count": 42,
   "metadata": {
    "collapsed": false,
    "scrolled": false
   },
   "outputs": [
    {
     "data": {
      "text/html": [
       "<div>\n",
       "<table border=\"1\" class=\"dataframe\">\n",
       "  <thead>\n",
       "    <tr style=\"text-align: right;\">\n",
       "      <th></th>\n",
       "      <th>raised_amount_usd</th>\n",
       "    </tr>\n",
       "    <tr>\n",
       "      <th>permalink</th>\n",
       "      <th></th>\n",
       "    </tr>\n",
       "  </thead>\n",
       "  <tbody>\n",
       "    <tr>\n",
       "      <th>/organization/manthan-systems</th>\n",
       "      <td>50700000.0</td>\n",
       "    </tr>\n",
       "  </tbody>\n",
       "</table>\n",
       "</div>"
      ],
      "text/plain": [
       "                               raised_amount_usd\n",
       "permalink                                       \n",
       "/organization/manthan-systems         50700000.0"
      ]
     },
     "execution_count": 42,
     "metadata": {},
     "output_type": "execute_result"
    }
   ],
   "source": [
    "com_sec_best=c3[c3.main_sector=='Social, Finance, Analytics, Advertising']\n",
    "com_sec_best.groupby('permalink').sum().sort_values('raised_amount_usd',ascending=False).head(1)"
   ]
  },
  {
   "cell_type": "markdown",
   "metadata": {},
   "source": [
    "## Checkpoint 6 plots"
   ]
  },
  {
   "cell_type": "code",
   "execution_count": 43,
   "metadata": {
    "collapsed": false
   },
   "outputs": [
    {
     "name": "stderr",
     "output_type": "stream",
     "text": [
      "C:\\Program Files\\Anaconda3\\lib\\site-packages\\scipy\\stats\\stats.py:1626: FutureWarning: Using a non-tuple sequence for multidimensional indexing is deprecated; use `arr[tuple(seq)]` instead of `arr[seq]`. In the future this will be interpreted as an array index, `arr[np.array(seq)]`, which will result either in an error or a different result.\n",
      "  return np.add.reduce(sorted[indexer] * weights, axis=axis) / sumval\n"
     ]
    },
    {
     "data": {
      "image/png": "[encoded data removed]",
      "text/plain": [
       "<matplotlib.figure.Figure at 0x236c9b57c88>"
      ]
     },
     "metadata": {},
     "output_type": "display_data"
    },
    {
     "name": "stdout",
     "output_type": "stream",
     "text": [
      " horizantal bar shows mean on each type of investment\n"
     ]
    }
   ],
   "source": [
    "import matplotlib.pyplot as plt\n",
    "import seaborn as sns\n",
    "\n",
    "plot_frame=master_frame[master_frame.funding_round_type.isin(['venture','seed','private_equity'])]\n",
    "\n",
    "sea=sns.barplot(x='funding_round_type',y='raised_amount_usd',data=plot_frame)\n",
    "\n",
    "venture_mean=plot_frame[plot_frame.funding_round_type=='venture']\n",
    "venture_mean=venture_mean.raised_amount_usd.mean()\n",
    "\n",
    "seed_mean=plot_frame[plot_frame.funding_round_type=='seed']\n",
    "seed_mean=seed_mean.raised_amount_usd.mean()\n",
    "\n",
    "\n",
    "private_mean=plot_frame[plot_frame.funding_round_type=='private_equity']\n",
    "private_mean=private_mean.raised_amount_usd.mean()\n",
    "\n",
    "\n",
    "plt.axhline(venture_mean,color=\"black\")\n",
    "plt.axhline(seed_mean,color=\"black\")\n",
    "plt.axhline(private_mean,color=\"black\")\n",
    "\n",
    "sea.set(title='3 investment types',ylabel='amount raised: unit = 10 million')\n",
    "plt.show()\n",
    "print(\" horizantal bar shows mean on each type of investment\")"
   ]
  },
  {
   "cell_type": "code",
   "execution_count": 44,
   "metadata": {
    "collapsed": false
   },
   "outputs": [
    {
     "name": "stderr",
     "output_type": "stream",
     "text": [
      "C:\\Program Files\\Anaconda3\\lib\\site-packages\\scipy\\stats\\stats.py:1626: FutureWarning: Using a non-tuple sequence for multidimensional indexing is deprecated; use `arr[tuple(seq)]` instead of `arr[seq]`. In the future this will be interpreted as an array index, `arr[np.array(seq)]`, which will result either in an error or a different result.\n",
      "  return np.add.reduce(sorted[indexer] * weights, axis=axis) / sumval\n"
     ]
    },
    {
     "data": {
      "image/png": "[encoded data removed]",
      "text/plain": [
       "<matplotlib.figure.Figure at 0x236c6c4a6d8>"
      ]
     },
     "metadata": {},
     "output_type": "display_data"
    }
   ],
   "source": [
    "c=sns.barplot(x='country_code', y='raised_amount_usd', data=top9, estimator=sum, order=top)\n",
    "plt.show()"
   ]
  },
  {
   "cell_type": "code",
   "execution_count": 45,
   "metadata": {
    "collapsed": false
   },
   "outputs": [
    {
     "name": "stdout",
     "output_type": "stream",
     "text": [
      "top categories in country one ['Others', 'Social, Finance, Analytics, Advertising', 'Cleantech / Semiconductors']\n"
     ]
    }
   ],
   "source": [
    "c1_top=c1.groupby('main_sector').sum().sort_values(by='raised_amount_usd',ascending=False).head(3).index.tolist()\n",
    "print(\"top categories in country one\",c1_top)\n",
    "c1=c1[c1.main_sector.isin(c1_top)]"
   ]
  },
  {
   "cell_type": "code",
   "execution_count": 46,
   "metadata": {
    "collapsed": false
   },
   "outputs": [
    {
     "name": "stdout",
     "output_type": "stream",
     "text": [
      "top categories in country two ['Others', 'Cleantech / Semiconductors', 'Social, Finance, Analytics, Advertising']\n"
     ]
    }
   ],
   "source": [
    "c2_top=c2.groupby('main_sector').sum().sort_values(by='raised_amount_usd',ascending=False).head(3).index.tolist()\n",
    "print(\"top categories in country two\",c2_top)\n",
    "c2=c2[c2.main_sector.isin(c2_top)]"
   ]
  },
  {
   "cell_type": "code",
   "execution_count": 47,
   "metadata": {
    "collapsed": false
   },
   "outputs": [
    {
     "name": "stdout",
     "output_type": "stream",
     "text": [
      "top categories in country three ['Others', 'Social, Finance, Analytics, Advertising', 'News, Search and Messaging']\n"
     ]
    }
   ],
   "source": [
    "c3_top=c3.groupby('main_sector').sum().sort_values(by='raised_amount_usd',ascending=False).head(3).index.tolist()\n",
    "print(\"top categories in country three\",c3_top)\n",
    "c3=c3[c3.main_sector.isin(c3_top)]"
   ]
  },
  {
   "cell_type": "code",
   "execution_count": 48,
   "metadata": {
    "collapsed": true
   },
   "outputs": [],
   "source": [
    "end=pd.concat([c1,c2,c3],axis=0)"
   ]
  },
  {
   "cell_type": "code",
   "execution_count": 50,
   "metadata": {
    "collapsed": false
   },
   "outputs": [
    {
     "name": "stderr",
     "output_type": "stream",
     "text": [
      "C:\\Program Files\\Anaconda3\\lib\\site-packages\\scipy\\stats\\stats.py:1626: FutureWarning: Using a non-tuple sequence for multidimensional indexing is deprecated; use `arr[tuple(seq)]` instead of `arr[seq]`. In the future this will be interpreted as an array index, `arr[np.array(seq)]`, which will result either in an error or a different result.\n",
      "  return np.add.reduce(sorted[indexer] * weights, axis=axis) / sumval\n"
     ]
    },
    {
     "data": {
      "image/png": "[encoded data removed]",
      "text/plain": [
       "<matplotlib.figure.Figure at 0x236cb12fd30>"
      ]
     },
     "metadata": {},
     "output_type": "display_data"
    }
   ],
   "source": [
    "s=sns.barplot(x='country_code', y='raised_amount_usd', hue=\"main_sector\", data=end,estimator=sum)\n",
    "s.set(xlabel='Country', ylabel='Number of Investments')\n",
    "s.set_title('top 3 countires and top 3 sectors')\n",
    "plt.show()"
   ]
  },
  {
   "cell_type": "markdown",
   "metadata": {},
   "source": [
    "# <i> Thank you !</i>"
   ]
  }
 ],
 "metadata": {
  "anaconda-cloud": {},
  "kernelspec": {
   "display_name": "Python [conda root]",
   "language": "python",
   "name": "conda-root-py"
  },
  "language_info": {
   "codemirror_mode": {
    "name": "ipython",
    "version": 3
   },
   "file_extension": ".py",
   "mimetype": "text/x-python",
   "name": "python",
   "nbconvert_exporter": "python",
   "pygments_lexer": "ipython3",
   "version": "3.5.2"
  }
 },
 "nbformat": 4,
 "nbformat_minor": 1
}
