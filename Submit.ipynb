{
 "cells": [
  {
   "cell_type": "code",
   "execution_count": 1,
   "metadata": {
    "collapsed": false
   },
   "outputs": [],
   "source": [
    "import pandas as pd\n",
    "import numpy as np\n",
    "import pycountry\n",
    "import re\n",
    "\n",
    "companies=pd.read_csv('company.csv',delimiter='\\t')\n",
    "rounds2=pd.read_csv('rounds2.csv',encoding='iso-8859-1')\n",
    "mapping=pd.read_csv('mapping.csv',encoding='iso-8859-1')\n",
    "\n",
    "    \n",
    "companies.permalink=companies.permalink.apply(lambda x:str.lower(x))\n",
    "rounds2.company_permalink=rounds2.company_permalink.apply(lambda x:str.lower(x))\n",
    "\n"
   ]
  },
  {
   "cell_type": "code",
   "execution_count": 2,
   "metadata": {
    "collapsed": false
   },
   "outputs": [
    {
     "name": "stdout",
     "output_type": "stream",
     "text": [
      "<class 'pandas.core.frame.DataFrame'>\n",
      "RangeIndex: 66368 entries, 0 to 66367\n",
      "Data columns (total 10 columns):\n",
      "permalink        66368 non-null object\n",
      "name             66367 non-null object\n",
      "homepage_url     61310 non-null object\n",
      "category_list    63220 non-null object\n",
      "status           66368 non-null object\n",
      "country_code     59410 non-null object\n",
      "state_code       57821 non-null object\n",
      "region           58338 non-null object\n",
      "city             58340 non-null object\n",
      "founded_at       51147 non-null object\n",
      "dtypes: object(10)\n",
      "memory usage: 5.1+ MB\n",
      "<class 'pandas.core.frame.DataFrame'>\n",
      "RangeIndex: 114949 entries, 0 to 114948\n",
      "Data columns (total 6 columns):\n",
      "company_permalink          114949 non-null object\n",
      "funding_round_permalink    114949 non-null object\n",
      "funding_round_type         114949 non-null object\n",
      "funding_round_code         31140 non-null object\n",
      "funded_at                  114949 non-null object\n",
      "raised_amount_usd          94959 non-null float64\n",
      "dtypes: float64(1), object(5)\n",
      "memory usage: 5.3+ MB\n",
      "None None\n"
     ]
    }
   ],
   "source": [
    "print(companies.info(),rounds2.info())"
   ]
  },
  {
   "cell_type": "code",
   "execution_count": 3,
   "metadata": {
    "collapsed": false
   },
   "outputs": [
    {
     "name": "stdout",
     "output_type": "stream",
     "text": [
      "# of unique companies in rounds2:  66370\n"
     ]
    }
   ],
   "source": [
    "print(\"# of unique companies in rounds2: \",rounds2.company_permalink.unique().shape[0])"
   ]
  },
  {
   "cell_type": "code",
   "execution_count": 4,
   "metadata": {
    "collapsed": false
   },
   "outputs": [
    {
     "name": "stdout",
     "output_type": "stream",
     "text": [
      "# of unique companies in companies:  66368\n"
     ]
    }
   ],
   "source": [
    "print(\"# of unique companies in companies: \",companies.permalink.unique().shape[0])"
   ]
  },
  {
   "cell_type": "code",
   "execution_count": 5,
   "metadata": {
    "collapsed": false
   },
   "outputs": [
    {
     "name": "stdout",
     "output_type": "stream",
     "text": [
      "(114949, 16)\n"
     ]
    }
   ],
   "source": [
    "master_frame=pd.merge(rounds2,companies,how='left',left_on='company_permalink',right_on='permalink')\n",
    "print(master_frame.shape)"
   ]
  },
  {
   "cell_type": "code",
   "execution_count": 6,
   "metadata": {
    "collapsed": false
   },
   "outputs": [
    {
     "name": "stdout",
     "output_type": "stream",
     "text": [
      "*****pecentage of missing values**** \n",
      " \n",
      " company_permalink           0.000000\n",
      "funding_round_permalink     0.000000\n",
      "funding_round_type          0.000000\n",
      "funding_round_code         72.909725\n",
      "funded_at                   0.000000\n",
      "raised_amount_usd          17.390321\n",
      "permalink                   0.027838\n",
      "name                        0.028708\n",
      "homepage_url                5.359768\n",
      "category_list               2.984802\n",
      "status                      0.027838\n",
      "country_code                7.556395\n",
      "state_code                  9.528574\n",
      "region                      8.851752\n",
      "city                        8.849142\n",
      "founded_at                 17.870534\n",
      "dtype: float64\n"
     ]
    }
   ],
   "source": [
    "print(\"*****pecentage of missing values**** \\n \\n\",(master_frame.isnull().sum()/master_frame.shape[0])*100)"
   ]
  },
  {
   "cell_type": "code",
   "execution_count": 7,
   "metadata": {
    "collapsed": false
   },
   "outputs": [
    {
     "name": "stdout",
     "output_type": "stream",
     "text": [
      "*****pecentage of missing values**** \n",
      " \n",
      " company_permalink           0.000000\n",
      "funding_round_permalink     0.000000\n",
      "funding_round_type          0.000000\n",
      "funding_round_code         70.335619\n",
      "funded_at                   0.000000\n",
      "raised_amount_usd           0.000000\n",
      "permalink                   0.017902\n",
      "name                        0.018956\n",
      "homepage_url                4.578818\n",
      "category_list               1.114165\n",
      "status                      0.017902\n",
      "country_code                6.167925\n",
      "state_code                  8.012932\n",
      "region                      7.428469\n",
      "city                        7.425310\n",
      "founded_at                 16.824103\n",
      "dtype: float64\n"
     ]
    }
   ],
   "source": [
    "master_frame=master_frame[~master_frame.raised_amount_usd.isnull()]\n",
    "print(\"*****pecentage of missing values**** \\n \\n\",(master_frame.isnull().sum()/master_frame.shape[0])*100)"
   ]
  },
  {
   "cell_type": "code",
   "execution_count": 8,
   "metadata": {
    "collapsed": false
   },
   "outputs": [],
   "source": [
    "master_frame = master_frame.drop('funding_round_code', axis=1)\n",
    "master_frame = master_frame.drop('founded_at', axis=1)\n",
    "master_frame = master_frame.drop('homepage_url', axis=1)"
   ]
  },
  {
   "cell_type": "code",
   "execution_count": 9,
   "metadata": {
    "collapsed": false
   },
   "outputs": [
    {
     "name": "stdout",
     "output_type": "stream",
     "text": [
      "*****pecentage of missing values**** \n",
      " \n",
      " company_permalink          0.000000\n",
      "funding_round_permalink    0.000000\n",
      "funding_round_type         0.000000\n",
      "funded_at                  0.000000\n",
      "raised_amount_usd          0.000000\n",
      "permalink                  0.017902\n",
      "name                       0.018956\n",
      "category_list              1.114165\n",
      "status                     0.017902\n",
      "country_code               6.167925\n",
      "state_code                 8.012932\n",
      "region                     7.428469\n",
      "city                       7.425310\n",
      "dtype: float64\n"
     ]
    }
   ],
   "source": [
    "print(\"*****pecentage of missing values**** \\n \\n\",(master_frame.isnull().sum()/master_frame.shape[0])*100)"
   ]
  },
  {
   "cell_type": "code",
   "execution_count": 10,
   "metadata": {
    "collapsed": false
   },
   "outputs": [
    {
     "name": "stdout",
     "output_type": "stream",
     "text": [
      "venture ------------------- 11.748949129489528 millions\n",
      "seed ------------------- 0.7198179969071729 millions\n",
      "undisclosed ------------------- 19.242370225663716 millions\n",
      "convertible_note ------------------- 1.4534385431928127 millions\n",
      "private_equity ------------------- 73.30859302944215 millions\n",
      "debt_financing ------------------- 17.043526023046994 millions\n",
      "angel ------------------- 0.9586944697530865 millions\n",
      "grant ------------------- 4.30057633945386 millions\n",
      "equity_crowdfunding ------------------- 0.5383682109120521 millions\n",
      "post_ipo_equity ------------------- 82.1824938710191 millions\n",
      "post_ipo_debt ------------------- 168.70457182236842 millions\n",
      "product_crowdfunding ------------------- 1.3631310699481867 millions\n",
      "secondary_market ------------------- 79.6496301 millions\n",
      "non_equity_assistance ------------------- 0.4112030547945206 millions\n",
      "\n",
      "\n",
      "******most suitable type of investment for sparkfunds****** : ['venture']\n"
     ]
    }
   ],
   "source": [
    "suitable=[]\n",
    "for i in master_frame.funding_round_type.unique():\n",
    "    average= master_frame.loc[master_frame.funding_round_type==i]\n",
    "    average=average.raised_amount_usd.mean()/1000000\n",
    "    print(i,'-------------------',average,\"millions\")\n",
    "    if  round(average)<15 and round(average)>5:\n",
    "        suitable.append(i)\n",
    "        \n",
    "print(\"\\n\\n******most suitable type of investment for sparkfunds****** :\",suitable)"
   ]
  },
  {
   "cell_type": "code",
   "execution_count": 11,
   "metadata": {
    "collapsed": false
   },
   "outputs": [
    {
     "data": {
      "text/html": [
       "<div>\n",
       "<table border=\"1\" class=\"dataframe\">\n",
       "  <thead>\n",
       "    <tr style=\"text-align: right;\">\n",
       "      <th></th>\n",
       "      <th>Alpha-3 Code</th>\n",
       "      <th>Country</th>\n",
       "      <th>Population</th>\n",
       "      <th>Population1</th>\n",
       "      <th>Primary language?</th>\n",
       "      <th>Region</th>\n",
       "    </tr>\n",
       "  </thead>\n",
       "  <tbody>\n",
       "    <tr>\n",
       "      <th>1</th>\n",
       "      <td>AUS</td>\n",
       "      <td>AUS</td>\n",
       "      <td>25019600</td>\n",
       "      <td>NaN</td>\n",
       "      <td>Yes</td>\n",
       "      <td>Oceania</td>\n",
       "    </tr>\n",
       "    <tr>\n",
       "      <th>2</th>\n",
       "      <td>NZL</td>\n",
       "      <td>NZL</td>\n",
       "      <td>4893830</td>\n",
       "      <td>NaN</td>\n",
       "      <td>Yes</td>\n",
       "      <td>Oceania</td>\n",
       "    </tr>\n",
       "    <tr>\n",
       "      <th>3</th>\n",
       "      <td>GBR</td>\n",
       "      <td>GBR</td>\n",
       "      <td>66040229</td>\n",
       "      <td>NaN</td>\n",
       "      <td>Yes</td>\n",
       "      <td>Europe</td>\n",
       "    </tr>\n",
       "    <tr>\n",
       "      <th>4</th>\n",
       "      <td>USA</td>\n",
       "      <td>USA</td>\n",
       "      <td>325719178</td>\n",
       "      <td>NaN</td>\n",
       "      <td>Yes</td>\n",
       "      <td>North America/Oceania</td>\n",
       "    </tr>\n",
       "    <tr>\n",
       "      <th>1</th>\n",
       "      <td>ATG</td>\n",
       "      <td>ATG</td>\n",
       "      <td>NaN</td>\n",
       "      <td>85000</td>\n",
       "      <td>Yes</td>\n",
       "      <td>Caribbean</td>\n",
       "    </tr>\n",
       "  </tbody>\n",
       "</table>\n",
       "</div>"
      ],
      "text/plain": [
       "  Alpha-3 Code Country Population Population1 Primary language?  \\\n",
       "1          AUS     AUS   25019600         NaN               Yes   \n",
       "2          NZL     NZL    4893830         NaN               Yes   \n",
       "3          GBR     GBR   66040229         NaN               Yes   \n",
       "4          USA     USA  325719178         NaN               Yes   \n",
       "1          ATG     ATG        NaN       85000               Yes   \n",
       "\n",
       "                  Region  \n",
       "1                Oceania  \n",
       "2                Oceania  \n",
       "3                 Europe  \n",
       "4  North America/Oceania  \n",
       "1              Caribbean  "
      ]
     },
     "execution_count": 11,
     "metadata": {},
     "output_type": "execute_result"
    }
   ],
   "source": [
    "#checkpoint from countries\n",
    "tables = pd.read_html(\"https://en.wikipedia.org/wiki/List_of_territorial_entities_where_English_is_an_official_language\")\n",
    "\n",
    "def clean(name):\n",
    "    end=name.find('[')\n",
    "    if end==-1:\n",
    "        return name\n",
    "    if end > 0:\n",
    "        return name[:end]\n",
    "\n",
    "\n",
    "def name_code(input_name):\n",
    "    country_dict = {}\n",
    "    for country in pycountry.countries:\n",
    "            country_dict[str.lower(country.name)] = country.alpha_3\n",
    "    try:\n",
    "        return country_dict[str.lower(input_name)]\n",
    "    except KeyError:\n",
    "        return 'unknown'\n",
    "    \n",
    "table=tables[1]\n",
    "countries=pd.DataFrame(table)\n",
    "countries.columns = countries.iloc[0]\n",
    "countries=countries.drop(countries.index[0])\n",
    "\n",
    "countries.Country=countries.Country.apply( lambda x:clean(x))\n",
    "countries.Country=countries.Country.apply( lambda x:clean(x))\n",
    "countries=countries.drop('Nr',axis=1)\n",
    "countries.head()\n",
    "\n",
    "df=pd.DataFrame(tables[0])\n",
    "df.columns=df.iloc[0]\n",
    "df=df.drop(df.index[0])\n",
    "df.Country=df.Country.apply(lambda x:clean(x))\n",
    "df=df.drop('Nr',axis=1)\n",
    "\n",
    "countries=pd.concat([df,countries],axis=0)\n",
    " \n",
    "countries.Country=countries.Country.apply(lambda x:name_code(x))\n",
    "eng_countries=countries.Country.tolist()\n",
    "countries.head()"
   ]
  },
  {
   "cell_type": "code",
   "execution_count": 12,
   "metadata": {
    "collapsed": false
   },
   "outputs": [
    {
     "data": {
      "text/html": [
       "<div>\n",
       "<table border=\"1\" class=\"dataframe\">\n",
       "  <thead>\n",
       "    <tr style=\"text-align: right;\">\n",
       "      <th></th>\n",
       "      <th>company_permalink</th>\n",
       "      <th>funding_round_permalink</th>\n",
       "      <th>funding_round_type</th>\n",
       "      <th>funded_at</th>\n",
       "      <th>raised_amount_usd</th>\n",
       "      <th>permalink</th>\n",
       "      <th>name</th>\n",
       "      <th>category_list_x</th>\n",
       "      <th>status</th>\n",
       "      <th>country_code</th>\n",
       "      <th>state_code</th>\n",
       "      <th>region</th>\n",
       "      <th>city</th>\n",
       "      <th>primary_sector</th>\n",
       "      <th>category_list_y</th>\n",
       "      <th>main_sector</th>\n",
       "    </tr>\n",
       "  </thead>\n",
       "  <tbody>\n",
       "    <tr>\n",
       "      <th>0</th>\n",
       "      <td>/organization/-fame</td>\n",
       "      <td>/funding-round/9a01d05418af9f794eebff7ace91f638</td>\n",
       "      <td>venture</td>\n",
       "      <td>05-01-2015</td>\n",
       "      <td>10000000.0</td>\n",
       "      <td>/organization/-fame</td>\n",
       "      <td>#fame</td>\n",
       "      <td>Media</td>\n",
       "      <td>operating</td>\n",
       "      <td>IND</td>\n",
       "      <td>16</td>\n",
       "      <td>Mumbai</td>\n",
       "      <td>Mumbai</td>\n",
       "      <td>Media</td>\n",
       "      <td>Media</td>\n",
       "      <td>Entertainment</td>\n",
       "    </tr>\n",
       "    <tr>\n",
       "      <th>1</th>\n",
       "      <td>/organization/0-6-com</td>\n",
       "      <td>/funding-round/5727accaeaa57461bd22a9bdd945382d</td>\n",
       "      <td>venture</td>\n",
       "      <td>19-03-2008</td>\n",
       "      <td>2000000.0</td>\n",
       "      <td>/organization/0-6-com</td>\n",
       "      <td>0-6.com</td>\n",
       "      <td>Curated Web</td>\n",
       "      <td>operating</td>\n",
       "      <td>CHN</td>\n",
       "      <td>22</td>\n",
       "      <td>Beijing</td>\n",
       "      <td>Beijing</td>\n",
       "      <td>Curated Web</td>\n",
       "      <td>Curated Web</td>\n",
       "      <td>News, Search and Messaging</td>\n",
       "    </tr>\n",
       "    <tr>\n",
       "      <th>2</th>\n",
       "      <td>/organization/0ndine-biomedical-inc</td>\n",
       "      <td>/funding-round/954b9499724b946ad8c396a57a5f3b72</td>\n",
       "      <td>venture</td>\n",
       "      <td>21-12-2009</td>\n",
       "      <td>719491.0</td>\n",
       "      <td>/organization/0ndine-biomedical-inc</td>\n",
       "      <td>Ondine Biomedical Inc.</td>\n",
       "      <td>Biotechnology</td>\n",
       "      <td>operating</td>\n",
       "      <td>CAN</td>\n",
       "      <td>BC</td>\n",
       "      <td>Vancouver</td>\n",
       "      <td>Vancouver</td>\n",
       "      <td>Biotechnology</td>\n",
       "      <td>Biotechnology</td>\n",
       "      <td>Cleantech / Semiconductors</td>\n",
       "    </tr>\n",
       "    <tr>\n",
       "      <th>3</th>\n",
       "      <td>/organization/0xdata</td>\n",
       "      <td>/funding-round/3bb2ee4a2d89251a10aaa735b1180e44</td>\n",
       "      <td>venture</td>\n",
       "      <td>09-11-2015</td>\n",
       "      <td>20000000.0</td>\n",
       "      <td>/organization/0xdata</td>\n",
       "      <td>H2O.ai</td>\n",
       "      <td>Analytics</td>\n",
       "      <td>operating</td>\n",
       "      <td>USA</td>\n",
       "      <td>CA</td>\n",
       "      <td>SF Bay Area</td>\n",
       "      <td>Mountain View</td>\n",
       "      <td>Analytics</td>\n",
       "      <td>Analytics</td>\n",
       "      <td>Social, Finance, Analytics, Advertising</td>\n",
       "    </tr>\n",
       "    <tr>\n",
       "      <th>4</th>\n",
       "      <td>/organization/0xdata</td>\n",
       "      <td>/funding-round/ae2a174c06517c2394aed45006322a7e</td>\n",
       "      <td>venture</td>\n",
       "      <td>03-01-2013</td>\n",
       "      <td>1700000.0</td>\n",
       "      <td>/organization/0xdata</td>\n",
       "      <td>H2O.ai</td>\n",
       "      <td>Analytics</td>\n",
       "      <td>operating</td>\n",
       "      <td>USA</td>\n",
       "      <td>CA</td>\n",
       "      <td>SF Bay Area</td>\n",
       "      <td>Mountain View</td>\n",
       "      <td>Analytics</td>\n",
       "      <td>Analytics</td>\n",
       "      <td>Social, Finance, Analytics, Advertising</td>\n",
       "    </tr>\n",
       "  </tbody>\n",
       "</table>\n",
       "</div>"
      ],
      "text/plain": [
       "                     company_permalink  \\\n",
       "0                  /organization/-fame   \n",
       "1                /organization/0-6-com   \n",
       "2  /organization/0ndine-biomedical-inc   \n",
       "3                 /organization/0xdata   \n",
       "4                 /organization/0xdata   \n",
       "\n",
       "                           funding_round_permalink funding_round_type  \\\n",
       "0  /funding-round/9a01d05418af9f794eebff7ace91f638            venture   \n",
       "1  /funding-round/5727accaeaa57461bd22a9bdd945382d            venture   \n",
       "2  /funding-round/954b9499724b946ad8c396a57a5f3b72            venture   \n",
       "3  /funding-round/3bb2ee4a2d89251a10aaa735b1180e44            venture   \n",
       "4  /funding-round/ae2a174c06517c2394aed45006322a7e            venture   \n",
       "\n",
       "    funded_at  raised_amount_usd                            permalink  \\\n",
       "0  05-01-2015         10000000.0                  /organization/-fame   \n",
       "1  19-03-2008          2000000.0                /organization/0-6-com   \n",
       "2  21-12-2009           719491.0  /organization/0ndine-biomedical-inc   \n",
       "3  09-11-2015         20000000.0                 /organization/0xdata   \n",
       "4  03-01-2013          1700000.0                 /organization/0xdata   \n",
       "\n",
       "                     name category_list_x     status country_code state_code  \\\n",
       "0                   #fame           Media  operating          IND         16   \n",
       "1                 0-6.com     Curated Web  operating          CHN         22   \n",
       "2  Ondine Biomedical Inc.   Biotechnology  operating          CAN         BC   \n",
       "3                  H2O.ai       Analytics  operating          USA         CA   \n",
       "4                  H2O.ai       Analytics  operating          USA         CA   \n",
       "\n",
       "        region           city primary_sector category_list_y  \\\n",
       "0       Mumbai         Mumbai          Media           Media   \n",
       "1      Beijing        Beijing    Curated Web     Curated Web   \n",
       "2    Vancouver      Vancouver  Biotechnology   Biotechnology   \n",
       "3  SF Bay Area  Mountain View      Analytics       Analytics   \n",
       "4  SF Bay Area  Mountain View      Analytics       Analytics   \n",
       "\n",
       "                               main_sector  \n",
       "0                            Entertainment  \n",
       "1               News, Search and Messaging  \n",
       "2               Cleantech / Semiconductors  \n",
       "3  Social, Finance, Analytics, Advertising  \n",
       "4  Social, Finance, Analytics, Advertising  "
      ]
     },
     "execution_count": 12,
     "metadata": {},
     "output_type": "execute_result"
    }
   ],
   "source": [
    "venture_df = master_frame[master_frame[\"funding_round_type\"]==suitable[0]]\n",
    "venture_by_country = venture_df.groupby('country_code')\n",
    "venture_by_country['raised_amount_usd'].sum().sort_values(ascending=False).head(9)\n",
    "\n",
    "top9 = venture_df[venture_df['country_code'].isin([\"USA\",\"CHN\",\"GBR\",\"IND\",\"CAN\",\"FRA\",\"ISR\",\"DEU\",\"JPN\"])]\n",
    "\n",
    "top9=top9[~top9.category_list.isnull()]\n",
    "\n",
    "top9['primary_sector'] =top9['category_list'].astype(str).apply(lambda x: x.split('|')[0])\n",
    "top9.shape\n",
    "\n",
    "mapping=mapping[~mapping.category_list.isnull()]\n",
    "mapping.head()\n",
    "\n",
    "\n",
    "mapping['category_list'] = mapping.category_list.apply(lambda x: re.sub('[0]', 'na', str(x)))\n",
    "\n",
    "mapping=pd.melt(mapping, id_vars=['category_list'], var_name=['main_sector'])\n",
    "mapping=mapping[mapping.value==1]\n",
    "mapping=mapping.drop('value',axis=1)\n",
    "mapping.shape\n",
    "top9=pd.merge(top9,mapping,how=\"left\",left_on=\"primary_sector\",right_on=\"category_list\")\n",
    "top9.head()"
   ]
  },
  {
   "cell_type": "code",
   "execution_count": 13,
   "metadata": {
    "collapsed": false
   },
   "outputs": [
    {
     "ename": "NameError",
     "evalue": "name 'top_list' is not defined",
     "output_type": "error",
     "traceback": [
      "\u001b[0;31m---------------------------------------------------------------------------\u001b[0m",
      "\u001b[0;31mNameError\u001b[0m                                 Traceback (most recent call last)",
      "\u001b[0;32m<ipython-input-13-f124110418c3>\u001b[0m in \u001b[0;36m<module>\u001b[0;34m()\u001b[0m\n\u001b[1;32m      1\u001b[0m \u001b[0mpos\u001b[0m\u001b[1;33m=\u001b[0m\u001b[1;36m1\u001b[0m\u001b[1;33m\u001b[0m\u001b[0m\n\u001b[1;32m      2\u001b[0m \u001b[0mtop3\u001b[0m\u001b[1;33m=\u001b[0m\u001b[1;33m[\u001b[0m\u001b[1;33m]\u001b[0m\u001b[1;33m\u001b[0m\u001b[0m\n\u001b[0;32m----> 3\u001b[0;31m \u001b[1;32mfor\u001b[0m \u001b[0mi\u001b[0m \u001b[1;32min\u001b[0m \u001b[0mtop_list\u001b[0m\u001b[1;33m:\u001b[0m\u001b[1;33m\u001b[0m\u001b[0m\n\u001b[0m\u001b[1;32m      4\u001b[0m     \u001b[1;32mif\u001b[0m \u001b[0mpos\u001b[0m \u001b[1;33m==\u001b[0m \u001b[1;36m4\u001b[0m\u001b[1;33m:\u001b[0m\u001b[1;33m\u001b[0m\u001b[0m\n\u001b[1;32m      5\u001b[0m         \u001b[1;32mbreak\u001b[0m\u001b[1;33m\u001b[0m\u001b[0m\n",
      "\u001b[0;31mNameError\u001b[0m: name 'top_list' is not defined"
     ]
    }
   ],
   "source": [
    "pos=1\n",
    "top3=[]\n",
    "for i in top_list:\n",
    "    if pos == 4:\n",
    "        break\n",
    "    if i in eng_countries:\n",
    "        top3.append(i)\n",
    "        print(pos,i)\n",
    "        pos+=1\n",
    "\n",
    "print(top3)"
   ]
  },
  {
   "cell_type": "code",
   "execution_count": null,
   "metadata": {
    "collapsed": false
   },
   "outputs": [],
   "source": [
    "# lets drop all rows whoes investment is not between 5 and 15 million\n",
    "top9 = top9.drop(top9[(top9.raised_amount_usd < 5000000)].index)\n",
    "top9 = top9.drop(top9[(top9.raised_amount_usd > 15000000)].index)\n",
    "\n",
    "d1 = top9[top9['country_code'] == 'USA']\n",
    "d2 = top9[top9['country_code'] == 'GBR']\n",
    "d3 = top9[top9['country_code'] == 'IND']"
   ]
  },
  {
   "cell_type": "code",
   "execution_count": null,
   "metadata": {
    "collapsed": false
   },
   "outputs": [],
   "source": [
    "d1."
   ]
  }
 ],
 "metadata": {
  "anaconda-cloud": {},
  "kernelspec": {
   "display_name": "Python [conda root]",
   "language": "python",
   "name": "conda-root-py"
  },
  "language_info": {
   "codemirror_mode": {
    "name": "ipython",
    "version": 3
   },
   "file_extension": ".py",
   "mimetype": "text/x-python",
   "name": "python",
   "nbconvert_exporter": "python",
   "pygments_lexer": "ipython3",
   "version": "3.5.2"
  }
 },
 "nbformat": 4,
 "nbformat_minor": 1
}
